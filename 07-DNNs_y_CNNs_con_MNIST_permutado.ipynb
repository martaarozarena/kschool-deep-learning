{
  "nbformat": 4,
  "nbformat_minor": 0,
  "metadata": {
    "kernelspec": {
      "display_name": "Python 3",
      "language": "python",
      "name": "python3"
    },
    "language_info": {
      "codemirror_mode": {
        "name": "ipython",
        "version": 3
      },
      "file_extension": ".py",
      "mimetype": "text/x-python",
      "name": "python",
      "nbconvert_exporter": "python",
      "pygments_lexer": "ipython3",
      "version": "3.7.3"
    },
    "colab": {
      "name": "Lab - Redes Convolucionales.ipynb",
      "provenance": [],
      "collapsed_sections": [],
      "toc_visible": true
    },
    "accelerator": "GPU"
  },
  "cells": [
    {
      "cell_type": "markdown",
      "metadata": {
        "id": "wUE-GqU07P8l",
        "colab_type": "text"
      },
      "source": [
        "Primero, importamos todos los módulos necesarios:"
      ]
    },
    {
      "cell_type": "code",
      "metadata": {
        "id": "lLtUTOb6_p3w",
        "colab_type": "code",
        "colab": {}
      },
      "source": [
        "import numpy as np\n",
        "import matplotlib.pyplot as plt\n",
        "plt.rcParams[\"figure.figsize\"] = [16,9]\n",
        "import pandas as pd\n",
        "from sklearn.model_selection import train_test_split, cross_val_score\n",
        "from sklearn.pipeline import make_pipeline\n",
        "from sklearn.preprocessing import scale, StandardScaler"
      ],
      "execution_count": null,
      "outputs": []
    },
    {
      "cell_type": "markdown",
      "metadata": {
        "id": "rznAZitu7dV-",
        "colab_type": "text"
      },
      "source": [
        "A continuación, configuramos matplotlib para este cuaderno:"
      ]
    },
    {
      "cell_type": "code",
      "metadata": {
        "id": "zeSRs3I__-1J",
        "colab_type": "code",
        "colab": {}
      },
      "source": [
        "% matplotlib inline\n",
        "plt.rcParams[\"savefig.dpi\"] = 300\n",
        "plt.rcParams[\"savefig.bbox\"] = \"tight\"\n",
        "np.set_printoptions(precision=3, suppress=True)"
      ],
      "execution_count": null,
      "outputs": []
    },
    {
      "cell_type": "markdown",
      "metadata": {
        "id": "eUD9ENZ1HktV",
        "colab_type": "text"
      },
      "source": [
        "# DNNs y CNNs con MNIST Permutado\n",
        "\n",
        "Vamos a ver cómo las Vanilla Neural Networks y las redes convolucionales se comportan de manera distinta ante la pérdida de información bidimensional en una imagen.\n",
        "\n",
        "En este cuaderno, vamos a cargar MNIST y vamos a alterar las imágenes de forma que para cada imagen, los mismos píxeles permanecen, pero alterados de manera aleatoria en su posición (llamaremos a este dataset MNIST permutado).\n",
        "\n",
        "De esta forma, veremos que una DNN se comporta igual con MNIST sin permutar y permutado, ya que no está haciendo uso de la información bidimensional que hay en nuestras muestras de entrenamiento. Sin embargo, el comportamiento de la CNN será muy distinto en ambos casos, bajando su rendimiento de manera considerable cuando como resultado de la permutación, se pierde la información bidimensional que cada digito posee."
      ]
    },
    {
      "cell_type": "markdown",
      "metadata": {
        "id": "HUcjNGnTHck_",
        "colab_type": "text"
      },
      "source": [
        "Importamos el dataset de MNIST directamente desde Keras, y almacenamos las muestras y las etiquetas en sendas variables:"
      ]
    },
    {
      "cell_type": "code",
      "metadata": {
        "id": "4cZ9WlrR_p3z",
        "colab_type": "code",
        "colab": {}
      },
      "source": [
        "from keras.datasets import mnist\n",
        "import keras\n",
        "\n",
        "(X_train, y_train), (X_test, y_test) = mnist.load_data()"
      ],
      "execution_count": null,
      "outputs": []
    },
    {
      "cell_type": "markdown",
      "metadata": {
        "id": "lLdUJqJlHS25",
        "colab_type": "text"
      },
      "source": [
        "Ahora montamos Google Drive en nuestro entorno para poder hacer operaciones como la carga y guardado de datos:"
      ]
    },
    {
      "cell_type": "code",
      "metadata": {
        "id": "ehNIRMQTE0pb",
        "colab_type": "code",
        "colab": {}
      },
      "source": [
        "#@markdown Decide si guardar los gráficos de drive en una carpeta específica\n",
        "save_imgs_to_drive = False #@param {type:\"boolean\"}\n",
        "if save_imgs_to_drive:\n",
        "  from google.colab import drive\n",
        "  drive.mount('/content/drive')"
      ],
      "execution_count": null,
      "outputs": []
    },
    {
      "cell_type": "markdown",
      "metadata": {
        "id": "r-EyMUCh7n9W",
        "colab_type": "text"
      },
      "source": [
        "Creamos un directorio donde almacenar las imágenes que vamos a ir generando en el cuaderno:"
      ]
    },
    {
      "cell_type": "code",
      "metadata": {
        "id": "ZmIEg8zUGk8h",
        "colab_type": "code",
        "colab": {}
      },
      "source": [
        "if save_imgs_to_drive:\n",
        "  !mkdir -p \"/content/drive/My Drive/Deep Learning/Images\"\n",
        "  images_dir = '/content/drive/My Drive/Deep Learning/Images'"
      ],
      "execution_count": null,
      "outputs": []
    },
    {
      "cell_type": "markdown",
      "metadata": {
        "id": "UXB_UbLtB5OR",
        "colab_type": "text"
      },
      "source": [
        "Por último, configuramos algunos parámetros que iremos reutilizando a lo largo del cuaderno:"
      ]
    },
    {
      "cell_type": "code",
      "metadata": {
        "id": "1jVK-NKb_p3_",
        "colab_type": "code",
        "colab": {}
      },
      "source": [
        "#@title Configuracion de parametros\n",
        "num_classes = 10 #@param {type:\"raw\"}\n",
        "batch_size = 128 #@param {type:\"raw\"}\n",
        "epochs = 10 #@param {type:\"raw\"}\n",
        "\n",
        "# input image dimensions\n",
        "img_rows, img_cols = 28, 28\n",
        "input_shape = img_rows * img_cols"
      ],
      "execution_count": null,
      "outputs": []
    },
    {
      "cell_type": "markdown",
      "metadata": {
        "id": "lH5UaQi4Bh6R",
        "colab_type": "text"
      },
      "source": [
        "Utilizamos MatPlotLib - PyPlot para pintar las cinco primeras figuras del dataset MNIST, para poder compararlas luego con una alteración del dataset que vamos a discutir:"
      ]
    },
    {
      "cell_type": "code",
      "metadata": {
        "id": "tfkKYHoI_p32",
        "colab_type": "code",
        "colab": {}
      },
      "source": [
        "fig, axes = plt.subplots(1, 5, figsize=(12, 3))\n",
        "for i, ax in enumerate(axes.ravel()):\n",
        "    ax.imshow(X_train[i, :, :], cmap='gray_r')\n",
        "    ax.set_xticks(())\n",
        "    ax.set_yticks(())\n",
        "if save_imgs_to_drive:\n",
        "  plt.savefig(f\"{images_dir}/mnist_org.png\")"
      ],
      "execution_count": null,
      "outputs": []
    },
    {
      "cell_type": "markdown",
      "metadata": {
        "id": "lfaV809R73lB",
        "colab_type": "text"
      },
      "source": [
        "Generamos una semilla aleatoria, y a partir de ahí generamos un número de permutaciones igual al número de píxeles que tenemos en las imágenes de MNIST:"
      ]
    },
    {
      "cell_type": "code",
      "metadata": {
        "id": "0T-7N77c_p35",
        "colab_type": "code",
        "colab": {}
      },
      "source": [
        "rng = np.random.RandomState(42)\n",
        "perm = rng.permutation(28 * 28)"
      ],
      "execution_count": null,
      "outputs": []
    },
    {
      "cell_type": "code",
      "metadata": {
        "id": "TE-_dYgH_p37",
        "colab_type": "code",
        "colab": {}
      },
      "source": [
        "perm"
      ],
      "execution_count": null,
      "outputs": []
    },
    {
      "cell_type": "markdown",
      "metadata": {
        "id": "Wzokg4tgH_8W",
        "colab_type": "text"
      },
      "source": [
        "Las operaciones anteriores han generado un array con 784 elementos (28x28), de 0 a 783, ordenados de manera aleatoria. Ya que las dimensiones de nuestro conjunto de muestras de entrenamiento son:"
      ]
    },
    {
      "cell_type": "code",
      "metadata": {
        "id": "fnfbmDTj_p39",
        "colab_type": "code",
        "colab": {}
      },
      "source": [
        "X_train.shape"
      ],
      "execution_count": null,
      "outputs": []
    },
    {
      "cell_type": "markdown",
      "metadata": {
        "id": "sbMvsJM4Ifcu",
        "colab_type": "text"
      },
      "source": [
        ", vamos a realizar una permutación por columnas en base al array `perm` que hemos creado antes para alterar el orden de cada uno de los dígitos de MNIST. Una vez hecha esa permutación, volvemos a redimensionar el conjunto de muestras de entrenamiento y de prueba para que sean las que tenemos en los conjuntos sin permutar:"
      ]
    },
    {
      "cell_type": "code",
      "metadata": {
        "id": "hqS1mDl_BpmL",
        "colab_type": "code",
        "colab": {}
      },
      "source": [
        "X_train_perm = X_train.reshape(-1, img_rows * img_cols)[:, perm].reshape(-1, img_rows, img_cols)\n",
        "X_test_perm = X_test.reshape(-1, img_rows * img_cols)[:, perm].reshape(-1, img_rows, img_cols)"
      ],
      "execution_count": null,
      "outputs": []
    },
    {
      "cell_type": "markdown",
      "metadata": {
        "id": "xmYgOEqFJcrM",
        "colab_type": "text"
      },
      "source": [
        "Si volvemos a pintar los cincon primeros dígitos del nuevo dataset de entrenamiento, vemos que las formas ahora no son reconocibles debido a la permutación:"
      ]
    },
    {
      "cell_type": "code",
      "metadata": {
        "id": "QY47plhG_p4B",
        "colab_type": "code",
        "colab": {}
      },
      "source": [
        "fig, axes = plt.subplots(1, 5, figsize=(12, 3))\n",
        "for i, ax in enumerate(axes.ravel()):\n",
        "    ax.imshow(X_train_perm[i, :, :], cmap='gray_r')\n",
        "    ax.set_xticks(())\n",
        "    ax.set_yticks(())\n",
        "if save_imgs_to_drive:\n",
        "  plt.savefig(f\"{images_dir}/mnist_permuted.png\")"
      ],
      "execution_count": null,
      "outputs": []
    },
    {
      "cell_type": "markdown",
      "metadata": {
        "id": "8GVb73DwKiAS",
        "colab_type": "text"
      },
      "source": [
        "La diferencia entre una red neuronal convolucional y otras arquitecturas (por ejemplo, una red neuronal densamente conectada) es que la red convolucional no puede aprender nada del dataset permutado, ya que ha desaparecido la estructura bidimensional del mismo, y la información de vecindad entre puntos ha dejado de tener significado. \n",
        "\n",
        "Sin embargo, una red neuronal densamente conectada aprendería lo mismo de los dos datasets, ya que el orden de las columnas en los datos no afecta a cómo se aprenden los parámetros.\n",
        "\n",
        "Veámoslo con más detalle."
      ]
    },
    {
      "cell_type": "markdown",
      "metadata": {
        "id": "KveGZhhn_p4E",
        "colab_type": "text"
      },
      "source": [
        "### Red neuronal densa"
      ]
    },
    {
      "cell_type": "markdown",
      "metadata": {
        "id": "6zg22idjNPew",
        "colab_type": "text"
      },
      "source": [
        "Vamos a crear una red neuronal densa como ya hemos visto con Keras. Utilicemos un modelo secuencial, con una sola capa de 512 neuronas utlizando una función de activación ReLu, y tras ella una capa de clasificación como ya hemos visto:"
      ]
    },
    {
      "cell_type": "code",
      "metadata": {
        "id": "e2KdYE_Z_p4E",
        "colab_type": "code",
        "colab": {}
      },
      "source": [
        "from keras.models import Sequential\n",
        "from keras.layers import Dense, Activation\n",
        "\n",
        "model = Sequential([\n",
        "    Dense(512, input_shape=(input_shape,), activation='relu'),\n",
        "    Dense(10, activation='softmax'),\n",
        "])"
      ],
      "execution_count": null,
      "outputs": []
    },
    {
      "cell_type": "markdown",
      "metadata": {
        "id": "e-qCzhFdDVJo",
        "colab_type": "text"
      },
      "source": [
        "Recordemos que vamos a hacer una clasificación categórica en 10 clases diferentes, por lo que tendremos que hacer un *hot encoding* de los vectores de etiquetas transformándolos en matrices binarias. Para ello podemos utilizar la utilidad de Keras `to_categorical`:"
      ]
    },
    {
      "cell_type": "code",
      "metadata": {
        "id": "UIUi7vtyHgYK",
        "colab_type": "code",
        "colab": {}
      },
      "source": [
        "X_train = X_train.reshape(60000, input_shape)\n",
        "X_test = X_test.reshape(10000, input_shape)\n",
        "X_train = X_train.astype('float32')\n",
        "X_test = X_test.astype('float32')\n",
        "X_train /= 255\n",
        "X_test /= 255\n",
        "print(f\"Dimensiones X_train: {X_train.shape}\\n\"\n",
        "      f\"Dimensiones X_test: {X_test.shape}\")"
      ],
      "execution_count": null,
      "outputs": []
    },
    {
      "cell_type": "code",
      "metadata": {
        "id": "XnlN6sqPRGpo",
        "colab_type": "code",
        "colab": {}
      },
      "source": [
        "y_train = keras.utils.to_categorical(y_train, num_classes)\n",
        "y_test = keras.utils.to_categorical(y_test, num_classes)\n",
        "print(f\"Dimensiones y_train: {y_train.shape}\\n\"\n",
        "      f\"Dimensiones y_test: {y_test.shape}\")"
      ],
      "execution_count": null,
      "outputs": []
    },
    {
      "cell_type": "markdown",
      "metadata": {
        "id": "IKP1Nx9V_lSM",
        "colab_type": "text"
      },
      "source": [
        "Compilamos el modelo y mostramos el resumen de lo que acabamos de configurar:"
      ]
    },
    {
      "cell_type": "code",
      "metadata": {
        "id": "1_660gGHNxA5",
        "colab_type": "code",
        "colab": {}
      },
      "source": [
        "model.compile(\"adam\", \"categorical_crossentropy\", metrics=['accuracy'])\n",
        "model.summary()"
      ],
      "execution_count": null,
      "outputs": []
    },
    {
      "cell_type": "markdown",
      "metadata": {
        "id": "KCTrx8QmNyQr",
        "colab_type": "text"
      },
      "source": [
        "Ahora entrenamos, utilizando el callback que el entrenamiento que el modelo devuelve para poder pintar posteriormente la precisión del modelo. En en entrenamiento, vamos a utilizar 10 épocas y un tamaño de lote de 128 muestras, así como reservar un 10% de los datos para validación:"
      ]
    },
    {
      "cell_type": "code",
      "metadata": {
        "id": "IofpFJDe_gyV",
        "colab_type": "code",
        "colab": {}
      },
      "source": [
        "history_callback_dense = model.fit(X_train, y_train, batch_size=batch_size,\n",
        "                             epochs=epochs, verbose=1, validation_split=.1)"
      ],
      "execution_count": null,
      "outputs": []
    },
    {
      "cell_type": "markdown",
      "metadata": {
        "id": "Pt4bWegrhaHc",
        "colab_type": "text"
      },
      "source": [
        "Por último, salvamos el modelo por si no queremos volver a ejecutar el entrenamiento:"
      ]
    },
    {
      "cell_type": "code",
      "metadata": {
        "id": "M41OxzwFhM20",
        "colab_type": "code",
        "colab": {}
      },
      "source": [
        "if save_imgs_to_drive:\n",
        "  model.save(\"dense_normal.h5\")"
      ],
      "execution_count": null,
      "outputs": []
    },
    {
      "cell_type": "markdown",
      "metadata": {
        "id": "5h9P0hqnnXfP",
        "colab_type": "text"
      },
      "source": [
        "### Red Neuronal Convolucional\n",
        "\n",
        "De la misma forma que hemos entrenado una red neuronal densa convencional, realizamos ahora el entrenamiento de una red neuronal convolucional."
      ]
    },
    {
      "cell_type": "markdown",
      "metadata": {
        "id": "Zo-VjaBZzlXO",
        "colab_type": "text"
      },
      "source": [
        "\n",
        "En el caso de una CNN, recordemos que las matrices de entradas tienen que ser tetradimensionales para tener en cuenta los canales de las imágenes:"
      ]
    },
    {
      "cell_type": "code",
      "metadata": {
        "id": "Czh6taNM_p4I",
        "colab_type": "code",
        "colab": {}
      },
      "source": [
        "X_train_images = X_train.reshape(X_train.shape[0], img_rows, img_cols, 1)\n",
        "X_test_images = X_test.reshape(X_test.shape[0], img_rows, img_cols, 1)\n",
        "input_shape = (img_rows, img_cols, 1)"
      ],
      "execution_count": null,
      "outputs": []
    },
    {
      "cell_type": "code",
      "metadata": {
        "id": "98o6Tfze_p4K",
        "colab_type": "code",
        "colab": {}
      },
      "source": [
        "from keras.layers import Conv2D, MaxPooling2D, Flatten\n",
        "\n",
        "cnn = Sequential()\n",
        "cnn.add(Conv2D(32, kernel_size=(3, 3),\n",
        "                 activation='relu',\n",
        "                 input_shape=input_shape))\n",
        "cnn.add(MaxPooling2D(pool_size=(2, 2)))\n",
        "cnn.add(Conv2D(32, (3, 3), activation='relu'))\n",
        "cnn.add(MaxPooling2D(pool_size=(2, 2)))\n",
        "cnn.add(Flatten())\n",
        "cnn.add(Dense(64, activation='relu'))\n",
        "cnn.add(Dense(num_classes, activation='softmax'))"
      ],
      "execution_count": null,
      "outputs": []
    },
    {
      "cell_type": "markdown",
      "metadata": {
        "id": "dVz1dNI7ayFn",
        "colab_type": "text"
      },
      "source": [
        "Mostramos el aspecto que tiene el modelo así configurado:"
      ]
    },
    {
      "cell_type": "code",
      "metadata": {
        "id": "xUtcRmqN_p4O",
        "colab_type": "code",
        "colab": {}
      },
      "source": [
        "cnn.summary()"
      ],
      "execution_count": null,
      "outputs": []
    },
    {
      "cell_type": "code",
      "metadata": {
        "id": "eQ8Jlvis_p4M",
        "colab_type": "code",
        "colab": {}
      },
      "source": [
        "cnn.compile(\"adam\", \"categorical_crossentropy\", metrics=['accuracy'])\n",
        "history_cnn = cnn.fit(X_train_images, y_train,\n",
        "                      batch_size=batch_size, epochs=epochs, verbose=1, validation_split=.1)"
      ],
      "execution_count": null,
      "outputs": []
    },
    {
      "cell_type": "markdown",
      "metadata": {
        "id": "3zQhTA1zdKUR",
        "colab_type": "text"
      },
      "source": [
        "### Comparación red densa - CNN simple con información 2D"
      ]
    },
    {
      "cell_type": "markdown",
      "metadata": {
        "id": "pLTiFvrpcjbM",
        "colab_type": "text"
      },
      "source": [
        "Definimos una función para filtrar del dataframe las columnas que nos interesan, de cara a que el graficado nos aparezca en las dimensiones correctas:"
      ]
    },
    {
      "cell_type": "code",
      "metadata": {
        "id": "t3BYOFmb_p4R",
        "colab_type": "code",
        "colab": {}
      },
      "source": [
        "def plot_history(logger):\n",
        "    df = pd.DataFrame(logger.history)\n",
        "    df[['accuracy', 'val_accuracy']].plot()\n",
        "    plt.ylabel(\"accuracy\")\n",
        "    #df[['loss', 'val_loss']].plot(linestyle='--', ax=plt.twinx())\n",
        "    #plt.ylabel(\"loss\")"
      ],
      "execution_count": null,
      "outputs": []
    },
    {
      "cell_type": "code",
      "metadata": {
        "id": "aWwzjh_l_p4S",
        "colab_type": "code",
        "colab": {}
      },
      "source": [
        "plot_history(history_cnn)"
      ],
      "execution_count": null,
      "outputs": []
    },
    {
      "cell_type": "markdown",
      "metadata": {
        "id": "TOYAZCk_iaM1",
        "colab_type": "text"
      },
      "source": [
        "Como puede verse, la precsión en validación y entrenamiento de la red convolucional, aunque no es demasiado sofisticada, supera la de la red densa, como por otro lado era de esperar ya que estamos considerando la información de entorno en la detección de patrones bidimensionales gracias a las convoluciones."
      ]
    },
    {
      "cell_type": "code",
      "metadata": {
        "id": "oEpecPTZ_p4U",
        "colab_type": "code",
        "colab": {}
      },
      "source": [
        "plot_history(history_callback_dense)"
      ],
      "execution_count": null,
      "outputs": []
    },
    {
      "cell_type": "markdown",
      "metadata": {
        "id": "bkXz_cgr_p4W",
        "colab_type": "text"
      },
      "source": [
        "### Comparación red densa - CNN simple con dataset permutado\n",
        "Recordemos que en este caso, estamos perdiendo la información bidimensional que las imágenes tienen y de la que está haciendo uso la red convolucional. Reconfiguramos la variable `input_shape` ya que en la definición de la red convolucional la alteramos para añadirle una dimensión más:"
      ]
    },
    {
      "cell_type": "code",
      "metadata": {
        "id": "2_-AbfXze8WN",
        "colab_type": "code",
        "colab": {}
      },
      "source": [
        "input_shape = img_rows * img_cols"
      ],
      "execution_count": null,
      "outputs": []
    },
    {
      "cell_type": "markdown",
      "metadata": {
        "id": "KF6zRFVum9Wx",
        "colab_type": "text"
      },
      "source": [
        "Ahora tocamos igual que hicimos anteriormente las dimensiones de las entradas para poder alimentarlas a nuestra red densa:"
      ]
    },
    {
      "cell_type": "code",
      "metadata": {
        "id": "poKxbvZheGD4",
        "colab_type": "code",
        "colab": {}
      },
      "source": [
        "X_train_perm = X_train_perm.reshape(60000, input_shape)\n",
        "X_test = X_test_perm.reshape(10000, input_shape)\n",
        "X_train_perm = X_train_perm.astype('float32')\n",
        "X_test_perm = X_test.astype('float32')\n",
        "X_train_perm /= 255\n",
        "X_test_perm /= 255\n",
        "print(f\"Dimensiones X_train_perm: {X_train_perm.shape}\\n\"\n",
        "      f\"Dimensiones X_test_perm: {X_test_perm.shape}\")"
      ],
      "execution_count": null,
      "outputs": []
    },
    {
      "cell_type": "markdown",
      "metadata": {
        "id": "qhWrOlZhnKaC",
        "colab_type": "text"
      },
      "source": [
        "La red densa ya está definida, vamos a utilizar la misma. En este caso, lo que tenemos que hacer es alimentar la arquitectura con los datos reordenados aleatoriamente para poder analizar posteriormente el comportamiento:"
      ]
    },
    {
      "cell_type": "code",
      "metadata": {
        "id": "yyRI8cpP_p4Y",
        "colab_type": "code",
        "colab": {}
      },
      "source": [
        "history_callback_dense_shuffle = model.fit(X_train_perm, y_train, batch_size=batch_size,\n",
        "                             epochs=epochs, verbose=1, validation_split=.1)"
      ],
      "execution_count": null,
      "outputs": []
    },
    {
      "cell_type": "markdown",
      "metadata": {
        "id": "e781zwSBpcd-",
        "colab_type": "text"
      },
      "source": [
        "Igualmente, preparamos los NumPy arrays permutados para poder alimentarlos a nuestra red convolucional. Esto exige que añadamos una dimensión más como ya vimos para contabilizar los canales de color de las imágenes:"
      ]
    },
    {
      "cell_type": "code",
      "metadata": {
        "id": "Yjp3Iku7j9d6",
        "colab_type": "code",
        "colab": {}
      },
      "source": [
        "X_train_images_perm = X_train_perm.reshape(X_train_perm.shape[0], img_rows, img_cols, 1)\n",
        "X_test_images_perm = X_test_perm.reshape(X_test_perm.shape[0], img_rows, img_cols, 1)"
      ],
      "execution_count": null,
      "outputs": []
    },
    {
      "cell_type": "markdown",
      "metadata": {
        "id": "R_wXdPIuqERX",
        "colab_type": "text"
      },
      "source": [
        "Una vez hecho esto, compilamos nuestra arquitectura y alimentamos el modelo con los datos permutados, almacenando el resultado en un nuevo callback que luego nos servirá para poder visualizar las precisiones de las diferentes aproximaciones:"
      ]
    },
    {
      "cell_type": "code",
      "metadata": {
        "id": "EQcDmSBZ_p4a",
        "colab_type": "code",
        "colab": {}
      },
      "source": [
        "cnn.compile(\"adam\", \"categorical_crossentropy\", metrics=['accuracy'])\n",
        "\n",
        "X_train_images_perm = X_train_perm.reshape(X_train_perm.shape[0], img_rows, img_cols, 1) / 255\n",
        "history_cnn_perm = cnn.fit(X_train_images_perm, y_train,\n",
        "                           batch_size=128, epochs=10, verbose=1, validation_split=.1)"
      ],
      "execution_count": null,
      "outputs": []
    },
    {
      "cell_type": "markdown",
      "metadata": {
        "id": "QmLTSkc6qmTS",
        "colab_type": "text"
      },
      "source": [
        "Ahora llega el momento de visualizar la comparación. Comenzamos con los datos sin permutar:"
      ]
    },
    {
      "cell_type": "code",
      "metadata": {
        "id": "wEKwV5CE_p4c",
        "colab_type": "code",
        "colab": {}
      },
      "source": [
        "cnn = pd.DataFrame(history_cnn.history)\n",
        "dense = pd.DataFrame(history_callback_dense.history)\n",
        "dense_perm = pd.DataFrame(history_callback_dense_shuffle.history)\n",
        "cnn_perm = pd.DataFrame(history_cnn_perm.history)"
      ],
      "execution_count": null,
      "outputs": []
    },
    {
      "cell_type": "code",
      "metadata": {
        "id": "QZZgpX6H_p4d",
        "colab_type": "code",
        "colab": {}
      },
      "source": [
        "res_org = pd.DataFrame({'cnn_train': cnn.accuracy, 'cnn_val': cnn.val_accuracy, 'dense_train': dense.accuracy, 'dense_val': dense.val_accuracy})\n",
        "res_org.plot()\n",
        "plt.ylim(.7, 1)\n",
        "if save_imgs_to_drive:\n",
        "  plt.savefig(\"images/mnist_org_curve.png\")"
      ],
      "execution_count": null,
      "outputs": []
    },
    {
      "cell_type": "markdown",
      "metadata": {
        "id": "5ivIGs10rMzt",
        "colab_type": "text"
      },
      "source": [
        "Para los datos permutados, las gráficas de percisión para las dos arquitecturas quedan como sigue:"
      ]
    },
    {
      "cell_type": "code",
      "metadata": {
        "id": "X_hFdT_Z_p4f",
        "colab_type": "code",
        "colab": {}
      },
      "source": [
        "res_perm = pd.DataFrame({'cnn_train': cnn_perm.acc, 'cnn_val': cnn_perm.val_acc, 'dense_train': dense_perm.acc, 'dense_val': dense_perm.val_acc})\n",
        "res_perm.plot()\n",
        "plt.ylim(.7, 1)\n",
        "\n",
        "if save_imgs_to_drive:\n",
        "  plt.savefig(\"images/mnist_perm_curve.pngs\")"
      ],
      "execution_count": null,
      "outputs": []
    },
    {
      "cell_type": "markdown",
      "metadata": {
        "id": "hXZN-n71rgJX",
        "colab_type": "text"
      },
      "source": [
        "Puede verse que la red neuronal densa funciona exactamente igual en el caso de que los datos de entrada estén permutados o no. Sin embargo, en la red convolucional la precisión baja de manera dramática al estar perdiendo la información codificada en la estructura bidimensional de los datos."
      ]
    },
    {
      "cell_type": "code",
      "metadata": {
        "id": "pGp7MG17_p4h",
        "colab_type": "code",
        "colab": {}
      },
      "source": [
        "from keras.layers import Input, Conv2D, MaxPooling2D, Flatten\n",
        "from keras.models import Model\n",
        "\n",
        "num_classes = 10\n",
        "inputs = Input(shape=(28, 28, 1))\n",
        "conv1_1 = Conv2D(32, kernel_size=(3, 3),\n",
        "                 activation='relu', padding='same')(inputs)\n",
        "conv1_2 = Conv2D(32, kernel_size=(3, 3),\n",
        "                 activation='relu', padding='same')(conv1_1)\n",
        "conv1_3 = Conv2D(32, kernel_size=(3, 3),\n",
        "                 activation='relu', padding='same')(conv1_2)\n",
        "maxpool1 = MaxPooling2D(pool_size=(2, 2))(conv1_3)\n",
        "conv2_1 = Conv2D(32, (3, 3), activation='relu', padding='same')(maxpool1)\n",
        "conv2_2 = Conv2D(32, (3, 3), activation='relu', padding='same')(conv2_1)\n",
        "conv2_3 = Conv2D(32, (3, 3), activation='relu', padding='same')(conv2_2)\n",
        "maxpool2 = MaxPooling2D(pool_size=(2, 2))(conv2_3)\n",
        "flat = Flatten()(maxpool2)\n",
        "dense = Dense(64, activation='relu')(flat)\n",
        "predictions = Dense(num_classes, activation='softmax')(dense)\n",
        "\n",
        "model = Model(inputs=inputs, outputs=predictions)"
      ],
      "execution_count": null,
      "outputs": []
    },
    {
      "cell_type": "code",
      "metadata": {
        "id": "ym2BMb6L_p4j",
        "colab_type": "code",
        "colab": {}
      },
      "source": [
        "model.summary()"
      ],
      "execution_count": null,
      "outputs": []
    },
    {
      "cell_type": "markdown",
      "metadata": {
        "id": "C0wcmBl8sIk4",
        "colab_type": "text"
      },
      "source": [
        "Cambiamos la arquitectura de la red neuronal convolucional, en este caso vamos a ver que el entrenamiento de cada época va a tomar algo más de tiempo:"
      ]
    },
    {
      "cell_type": "code",
      "metadata": {
        "id": "UZl05clN_p4l",
        "colab_type": "code",
        "colab": {}
      },
      "source": [
        "model.compile(optimizer='adam',\n",
        "              loss='categorical_crossentropy',\n",
        "              metrics=['accuracy'])\n",
        "cnn_no_res = model.fit(X_train_images, y_train,\n",
        "                       batch_size=128, epochs=10, verbose=1, validation_split=.1)"
      ],
      "execution_count": null,
      "outputs": []
    }
  ]
}