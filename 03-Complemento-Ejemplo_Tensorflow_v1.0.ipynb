{
  "nbformat": 4,
  "nbformat_minor": 0,
  "metadata": {
    "anaconda-cloud": {},
    "kernelspec": {
      "display_name": "Python 3",
      "language": "python",
      "name": "python3"
    },
    "language_info": {
      "codemirror_mode": {
        "name": "ipython",
        "version": 3
      },
      "file_extension": ".py",
      "mimetype": "text/x-python",
      "name": "python",
      "nbconvert_exporter": "python",
      "pygments_lexer": "ipython3",
      "version": "3.7.1"
    },
    "colab": {
      "name": "redes-convolucionales.ipynb",
      "provenance": [],
      "toc_visible": true
    },
    "accelerator": "GPU"
  },
  "cells": [
    {
      "cell_type": "markdown",
      "metadata": {
        "id": "OHIozk1pBGkX",
        "colab_type": "text"
      },
      "source": [
        "# Ejemplo con Tensorflow 1.0\n",
        "Como referencia, vamos a ir sobre un ejemplo de Tensorflow en la manera en la que se trabajaba con él en la versión 1.0 como comentamos en las slides. Lo interesante de este ejemplo es ver cómo las diferentes tareas de configuración y ejecución del modelo están claramente separadas.\n",
        "\n",
        "Nótese que en Tensorflow 2.0 ya no tenemos el concepto de sesión, ni en *eager mode* ni si estamos utilizando una `tf.function`. Lo que existe es un runtime global en segundo plano que ejecuta todos los cálculos."
      ]
    },
    {
      "cell_type": "code",
      "metadata": {
        "id": "oGoTuQsq97ow",
        "colab_type": "code",
        "colab": {
          "base_uri": "https://localhost:8080/",
          "height": 204
        },
        "outputId": "dba1e85a-796e-4f05-95ba-a8d425b9564d"
      },
      "source": [
        "import tensorflow.compat.v1 as tf1\n",
        "tf1.disable_v2_behavior()\n",
        "import numpy as np\n",
        "\n",
        "# Crea 100 datapoints artificiales en NumPy , y = x * 0.1 + 0.3\n",
        "x_data = np.random.rand(100).astype(np.float32)\n",
        "y_data = x_data * 0.1 + 0.3\n",
        "\n",
        "# Crear grafo: modelo\n",
        "W = tf1.Variable(tf1.random.uniform([1], -1.0, 1.0))\n",
        "b = tf1.Variable(tf1.zeros([1]))\n",
        "y = W * x_data + b\n",
        "\n",
        "# Crear grafo: función de pérdida\n",
        "loss = tf1.reduce_mean(tf1.square(y - y_data))\n",
        "\n",
        "# Conectar optimizador\n",
        "optimizer = tf1.train.GradientDescentOptimizer(0.5)\n",
        "train = optimizer.minimize(loss)\n",
        "\n",
        "# Ejecución del grafo\n",
        "init = tf1.global_variables_initializer()\n",
        "sess = tf1.Session()\n",
        "sess.run(init)\n",
        "\n",
        "# Ajuste de la línea\n",
        "for step in range(201):\n",
        "    sess.run(train)\n",
        "    if step % 20 == 0:\n",
        "        print(step, sess.run(W), sess.run(b))"
      ],
      "execution_count": null,
      "outputs": [
        {
          "output_type": "stream",
          "text": [
            "0 [-0.026] [0.513]\n",
            "20 [0.05] [0.327]\n",
            "40 [0.087] [0.307]\n",
            "60 [0.096] [0.302]\n",
            "80 [0.099] [0.301]\n",
            "100 [0.1] [0.3]\n",
            "120 [0.1] [0.3]\n",
            "140 [0.1] [0.3]\n",
            "160 [0.1] [0.3]\n",
            "180 [0.1] [0.3]\n",
            "200 [0.1] [0.3]\n"
          ],
          "name": "stdout"
        }
      ]
    }
  ]
}