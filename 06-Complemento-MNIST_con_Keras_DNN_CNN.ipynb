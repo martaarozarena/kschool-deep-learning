{
  "nbformat": 4,
  "nbformat_minor": 0,
  "metadata": {
    "kernelspec": {
      "name": "python3",
      "display_name": "Python 3"
    },
    "colab": {
      "name": "Lab - MNIST con Keras.ipynb",
      "provenance": [],
      "collapsed_sections": [
        "cnhBuIloCZDe",
        "UzHu7kvaCZDz",
        "rEEcNUg0CZEA"
      ],
      "toc_visible": true
    },
    "accelerator": "GPU"
  },
  "cells": [
    {
      "cell_type": "code",
      "metadata": {
        "id": "QaLbTSPNCZCp",
        "colab_type": "code",
        "colab": {}
      },
      "source": [
        "%matplotlib inline"
      ],
      "execution_count": null,
      "outputs": []
    },
    {
      "cell_type": "markdown",
      "metadata": {
        "id": "iZm59g0xCZCs",
        "colab_type": "text"
      },
      "source": [
        "# Deep Learning con Keras y TensorFlow\n",
        "\n",
        "\n",
        "**Fuentes: [Daniel Moser]() [Xavier Snelgrove](https://github.com/wxs/keras-mnist-tutorial), [Yash Katariya](https://github.com/yashk2810/MNIST-Keras)**"
      ]
    },
    {
      "cell_type": "markdown",
      "metadata": {
        "id": "CzyayubXCZCs",
        "colab_type": "text"
      },
      "source": [
        "Para ayudar a comprender los fundamentos del deep learning, este cuaderno guiará a través de los pasos básicos de construcción de modelos para la clasificación de números escritos a mano (dataset MNIST) con precisiones que superan el 95%.\n",
        "\n",
        "El primer modelo será un modelo con una red neuronal densa, y el segundo modelo será una red neuronal profunda que introduce los conceptos de redes convolucionales y pooling."
      ]
    },
    {
      "cell_type": "markdown",
      "metadata": {
        "id": "hc4GXtLmCZCt",
        "colab_type": "text"
      },
      "source": [
        "## Objetivo\n",
        "\n",
        "Nuestro objetivo es construir y entrenar una red neuronal con miles de imágenes de números escritos a mano de forma que podamos hacer predicciones correctas de nuevas muestras escritas que se le presenten al modelo.\n",
        "\n",
        "La base de datos MNIST que utilizaremos en este laboratorio contiene 60000 imágenes para aprendizaje, y 10000 imágenes de prueba. Usaremos el API de Python Keras con Tensorflow como backend."
      ]
    },
    {
      "cell_type": "markdown",
      "metadata": {
        "id": "gCj6Qz5OCZCt",
        "colab_type": "text"
      },
      "source": [
        "<figure>\n",
        "<center>\n",
        "<img src='https://drive.google.com/uc?export=view&id=1sQ7d_5L4hsLHNvCgcNbeZtnWzyo9Qdx_' />\n",
        "<figcaption>MNIST Dataset</figcaption></center>\n",
        "</figure>"
      ]
    },
    {
      "cell_type": "markdown",
      "metadata": {
        "id": "uuUPl0BHCZCu",
        "colab_type": "text"
      },
      "source": [
        "## Módulos Python prerequisito\n",
        "\n",
        "Primero, cargamos módulos que necesitaremos a lo largo del cuaderno:"
      ]
    },
    {
      "cell_type": "code",
      "metadata": {
        "id": "unG_5tGbCZCu",
        "colab_type": "code",
        "colab": {
          "base_uri": "https://localhost:8080/",
          "height": 34
        },
        "outputId": "d61dfe4d-f260-40af-bfbf-b865f232a3c9"
      },
      "source": [
        "import numpy as np                   # Librería matemática avanzada\n",
        "import matplotlib.pyplot as plt      # Librerías de plotting tipo MATLAB\n",
        "import random                        # para generación de números aleatorios\n",
        "import pandas as pd                  # Pandas\n",
        "\n",
        "from keras.datasets import mnist     # MNIST dataset incluido en Keras\n",
        "from keras.models import Sequential  # Tipo de modelo a utilizar\n",
        "\n",
        "from keras.layers.core import Dense, Dropout, Activation # Tipos de capas que usaremos en nuestro modelo\n",
        "from keras.utils import np_utils                         # Herramientas Numpy"
      ],
      "execution_count": null,
      "outputs": [
        {
          "output_type": "stream",
          "text": [
            "Using TensorFlow backend.\n"
          ],
          "name": "stderr"
        }
      ]
    },
    {
      "cell_type": "markdown",
      "metadata": {
        "id": "duvXoyVHCZCw",
        "colab_type": "text"
      },
      "source": [
        "## Carga de datos de entrenamiento\n",
        "\n",
        "El dataset MNIST viene empaquetado con Keras por comodidad, y se pueden analizar algunas de sus características fácilmente con Python:"
      ]
    },
    {
      "cell_type": "code",
      "metadata": {
        "id": "eDc07r6PCZCw",
        "colab_type": "code",
        "colab": {
          "base_uri": "https://localhost:8080/",
          "height": 85
        },
        "outputId": "46539ef7-6366-41fe-d7ad-3077d8065aa0"
      },
      "source": [
        "# Los datos MNIST están repartidas entre 60000 imágenes de 28 x 28 píxeles y 10000 imágenes de 28 x 28 píxeles\n",
        "(X_train, y_train), (X_test, y_test) = mnist.load_data()\n",
        "\n",
        "print(f\"X_train shape: {X_train.shape}\")\n",
        "print(f\"y_train shape, {y_train.shape}\")\n",
        "print(f\"X_test shape, {X_test.shape}\")\n",
        "print(f\"y_test shape, {y_test.shape}\")"
      ],
      "execution_count": null,
      "outputs": [
        {
          "output_type": "stream",
          "text": [
            "X_train shape: (60000, 28, 28)\n",
            "y_train shape, (60000,)\n",
            "X_test shape, (10000, 28, 28)\n",
            "y_test shape, (10000,)\n"
          ],
          "name": "stdout"
        }
      ]
    },
    {
      "cell_type": "markdown",
      "metadata": {
        "id": "mT6Pdi19CZCz",
        "colab_type": "text"
      },
      "source": [
        "Usamos matplotlib para mostrar algunas de las figuras del training set directamente en nuestro notebook:"
      ]
    },
    {
      "cell_type": "code",
      "metadata": {
        "id": "x3vW0mcuCZCz",
        "colab_type": "code",
        "colab": {
          "base_uri": "https://localhost:8080/",
          "height": 657
        },
        "outputId": "60ed1fb6-d025-434f-9d67-2b1838da4ca2"
      },
      "source": [
        "plt.rcParams['figure.figsize'] = (9,9) # Hacemos los gráficos un poco más grandes\n",
        "\n",
        "for i in range(9):\n",
        "    plt.subplot(3,3,i+1)\n",
        "    num = random.randint(0, len(X_train))\n",
        "    plt.imshow(X_train[num], cmap='gray', interpolation='none')\n",
        "    plt.title(\"Class {}\".format(y_train[num]))\n",
        "    \n",
        "plt.tight_layout()"
      ],
      "execution_count": null,
      "outputs": [
        {
          "output_type": "display_data",
          "data": {
            "image/png": "[encoded data removed]",
            "text/plain": [
              "<Figure size 648x648 with 9 Axes>"
            ]
          },
          "metadata": {
            "tags": [],
            "needs_background": "light"
          }
        }
      ]
    },
    {
      "cell_type": "markdown",
      "metadata": {
        "id": "XAS9-LEDCZC1",
        "colab_type": "text"
      },
      "source": [
        "Vamos a examinar los números con más detalle, e imprimir un array que representa el último dígito de la matriz de 9 x 9 anterior con los valores que representa cada píxel:"
      ]
    },
    {
      "cell_type": "code",
      "metadata": {
        "id": "OSRyF4x0CZC1",
        "colab_type": "code",
        "colab": {
          "base_uri": "https://localhost:8080/",
          "height": 493
        },
        "outputId": "c24c60bf-abaa-40b5-893f-c1aecdf47c5f"
      },
      "source": [
        "# Definimos una matriz para hacer una visualización de una matriz\n",
        "def matprint(mat, fmt=\"g\"):\n",
        "    col_maxes = [max([len((\"{:\"+fmt+\"}\").format(x)) for x in col]) for col in mat.T]\n",
        "    for x in mat:\n",
        "        for i, y in enumerate(x):\n",
        "            print((\"{:\"+str(col_maxes[i])+fmt+\"}\").format(y), end=\"  \")\n",
        "        print(\"\")\n",
        "\n",
        "# la visualizamos        \n",
        "matprint(X_train[num])"
      ],
      "execution_count": null,
      "outputs": [
        {
          "output_type": "stream",
          "text": [
            "0  0  0  0  0  0  0    0    0    0    0    0    0    0    0    0    0    0    0    0    0  0  0  0  0  0  0  0  \n",
            "0  0  0  0  0  0  0    0    0    0    0    0    0    0    0    0    0    0    0    0    0  0  0  0  0  0  0  0  \n",
            "0  0  0  0  0  0  0    0    0    0    0    0    0    0    0    0    0    0    0    0    0  0  0  0  0  0  0  0  \n",
            "0  0  0  0  0  0  0    0    0    0    0    0    0    0    0    0    0    0    0    0    0  0  0  0  0  0  0  0  \n",
            "0  0  0  0  0  0  0    0    0    0    0    0    0    0    0    0    0    0    0    0    0  0  0  0  0  0  0  0  \n",
            "0  0  0  0  0  0  0    0    0    0    0    0    3    3   41  172  207  153   23    0    0  0  0  0  0  0  0  0  \n",
            "0  0  0  0  0  0  0   77   99  115  180  180  202  206  254  237  168  149  239   80    0  0  0  0  0  0  0  0  \n",
            "0  0  0  0  0  0  0  189  254  249  229  229  205  121   64    0    0    9   55    0    0  0  0  0  0  0  0  0  \n",
            "0  0  0  0  0  0  0   48  247   88    0    0    0    0    0    0    0    0    0    0    0  0  0  0  0  0  0  0  \n",
            "0  0  0  0  0  0  0    0  205  162    0    0    0    0    0    0    0    0    0    0    0  0  0  0  0  0  0  0  \n",
            "0  0  0  0  0  0  0    0  136  230   17    0    0    0    0    0    0    0    0    0    0  0  0  0  0  0  0  0  \n",
            "0  0  0  0  0  0  0    0   69  245   78    0    0    0    0    0    0    0    0    0    0  0  0  0  0  0  0  0  \n",
            "0  0  0  0  0  0  0    0    0  213  188    0    0    0    0    0    0    0    0    0    0  0  0  0  0  0  0  0  \n",
            "0  0  0  0  0  0  0    0    0  139  250   90   75  180  239  238  238  190   39    0    0  0  0  0  0  0  0  0  \n",
            "0  0  0  0  0  0  0    0    0   18  206  254  254  254  169   90   98  209  223   40    0  0  0  0  0  0  0  0  \n",
            "0  0  0  0  0  0  0    0    0    0    0    0   78    3    0    0    0   11  219  205    0  0  0  0  0  0  0  0  \n",
            "0  0  0  0  0  0  0    0    0    0    0    0    0    0    0    0    0    0   92  239   29  0  0  0  0  0  0  0  \n",
            "0  0  0  0  0  0  0    0    0    0    0    0    0    0    0    0    0    0   42  254  115  0  0  0  0  0  0  0  \n",
            "0  0  0  0  0  0  0    0    0    0    0    0    0    0    0    0    0    0   42  254  104  0  0  0  0  0  0  0  \n",
            "0  0  0  0  0  0  0    0    0    0    0   14    0    0    0    0    0    0  108  254   33  0  0  0  0  0  0  0  \n",
            "0  0  0  0  0  0  0    0    0    0   12  156    0    0    0    0    0   18  217  212    6  0  0  0  0  0  0  0  \n",
            "0  0  0  0  0  0  0    0    0    0  111  203    4    0    0    0    0  124  254  115    0  0  0  0  0  0  0  0  \n",
            "0  0  0  0  0  0  0    0    0    0   43  248   59    0    0    0   92  248  174    4    0  0  0  0  0  0  0  0  \n",
            "0  0  0  0  0  0  0    0    0    0    0  182  249  132  104  161  250  199    3    0    0  0  0  0  0  0  0  0  \n",
            "0  0  0  0  0  0  0    0    0    0    0    2  135  251  255  195  103    5    0    0    0  0  0  0  0  0  0  0  \n",
            "0  0  0  0  0  0  0    0    0    0    0    0    0    0    0    0    0    0    0    0    0  0  0  0  0  0  0  0  \n",
            "0  0  0  0  0  0  0    0    0    0    0    0    0    0    0    0    0    0    0    0    0  0  0  0  0  0  0  0  \n",
            "0  0  0  0  0  0  0    0    0    0    0    0    0    0    0    0    0    0    0    0    0  0  0  0  0  0  0  0  \n"
          ],
          "name": "stdout"
        }
      ]
    },
    {
      "cell_type": "markdown",
      "metadata": {
        "id": "hjLV4PGpCZC3",
        "colab_type": "text"
      },
      "source": [
        "Cada píxel es un entero de 8 bits de 0-255. 0 es negro, 255 es blanco, y los números intermedios son todos de gris. Esto es lo que llamamos un píxel monocanal, así que las imágenes son monocromo."
      ]
    },
    {
      "cell_type": "markdown",
      "metadata": {
        "id": "K9IsZx2GCZC4",
        "colab_type": "text"
      },
      "source": [
        "## Formateo de la capa de entrada\n",
        "\n",
        "En vez de una matrix de 28 x 28, construimos nuestra red para aceptar una entrada de un vecto\n",
        "Instead of a 28 x 28 matrix, we build our network to accept a 784-length vector.\n",
        "\n",
        "Cada imagen tiene que ser redimensionada (aplanada) en un vector. También tendremos que normalizar las entradas para que esté en el rango $[0,1]$ en lugar del rango $[0-255]$. La normalización de las entradas en general se recomienda de tal forma que dimensiones adicionales tengan la misma escala."
      ]
    },
    {
      "cell_type": "markdown",
      "metadata": {
        "id": "NO1fs5bbCZC4",
        "colab_type": "text"
      },
      "source": [
        "<figure>\n",
        "<center>\n",
        "<img src='https://drive.google.com/uc?export=view&id=1ToEoMOG8e1ujy3-ncvV3fxmvva_JZL_w' />\n",
        "<figcaption>Aplanamiento</figcaption></center>\n",
        "</figure>"
      ]
    },
    {
      "cell_type": "code",
      "metadata": {
        "id": "QfZHC6LuCZC5",
        "colab_type": "code",
        "colab": {
          "base_uri": "https://localhost:8080/",
          "height": 51
        },
        "outputId": "297dd312-d653-43d3-a233-298760e559bc"
      },
      "source": [
        "X_train = X_train.reshape(60000, 784) # Redimensionamos 60000 matrices de 28 x 28 en vectores de longitud 784\n",
        "X_test = X_test.reshape(10000, 784)   # Redimensionamos 10000 matrices de 28 x 28 en vectores de longitud 784\n",
        "\n",
        "X_train = X_train.astype('float32')   # Pasamos de enteros a números en punto flontate de 32 bits\n",
        "X_test = X_test.astype('float32')\n",
        "\n",
        "X_train /= 255                        # Normalizamos cada valor de cada pixel para cada vector de entrada\n",
        "X_test /= 255\n",
        "\n",
        "print(\"Training matrix shape\", X_train.shape)\n",
        "print(\"Testing matrix shape\", X_test.shape)"
      ],
      "execution_count": null,
      "outputs": [
        {
          "output_type": "stream",
          "text": [
            "Training matrix shape (60000, 784)\n",
            "Testing matrix shape (10000, 784)\n"
          ],
          "name": "stdout"
        }
      ]
    },
    {
      "cell_type": "markdown",
      "metadata": {
        "id": "lANe5FJNCZC7",
        "colab_type": "text"
      },
      "source": [
        "Ahora modificamos las clases (dígitos únicos) para que estén en formato *one-hot*:\n",
        "\n",
        "```\n",
        "0 -> [1, 0, 0, 0, 0, 0, 0, 0, 0]\n",
        "1 -> [0, 1, 0, 0, 0, 0, 0, 0, 0]\n",
        "2 -> [0, 0, 1, 0, 0, 0, 0, 0, 0]\n",
        "etc.\n",
        "```\n",
        "\n",
        "Si la salida final de nuestra red es muy próxima a una de las clases, entonces será probablemente de esa clase. Por ejemplo, si la salida final es:\n",
        "\n",
        "```\n",
        "[0, 0.94, 0, 0, 0, 0, 0.06, 0, 0]\n",
        "```\n",
        "entonces lo más probable es que la imagen corresponda al número `1`."
      ]
    },
    {
      "cell_type": "code",
      "metadata": {
        "id": "lzew_k2rCZC7",
        "colab_type": "code",
        "colab": {}
      },
      "source": [
        "nb_classes = 10 # número de dígitos únicos\n",
        "\n",
        "Y_train = np_utils.to_categorical(y_train, nb_classes)\n",
        "Y_test = np_utils.to_categorical(y_test, nb_classes)"
      ],
      "execution_count": null,
      "outputs": []
    },
    {
      "cell_type": "markdown",
      "metadata": {
        "id": "WxRQ9Bf0CZC9",
        "colab_type": "text"
      },
      "source": [
        "# Construccción de una fully connected network de 3 capas\n",
        "\n",
        "<figure>\n",
        "<center>\n",
        "<img src='https://drive.google.com/uc?export=view&id=1A2p-57MRkK-fNtBgFDZyzTz4q8_h70V_' />\n",
        "<figcaption>Red neuronal densamente conectada de 3 capas</figcaption></center>\n",
        "</figure>"
      ]
    },
    {
      "cell_type": "markdown",
      "metadata": {
        "id": "ZVlI9QZCWCwH",
        "colab_type": "text"
      },
      "source": [
        "El modelo secuencial es un apilamiento lineal de capas y es muy común:"
      ]
    },
    {
      "cell_type": "code",
      "metadata": {
        "id": "uyqZ54bGCZC9",
        "colab_type": "code",
        "colab": {}
      },
      "source": [
        "model = Sequential()"
      ],
      "execution_count": null,
      "outputs": []
    },
    {
      "cell_type": "markdown",
      "metadata": {
        "id": "YFOIlnjKCZC_",
        "colab_type": "text"
      },
      "source": [
        "## La primera hidden layer"
      ]
    },
    {
      "cell_type": "markdown",
      "metadata": {
        "id": "lLSnb5nSWGS_",
        "colab_type": "text"
      },
      "source": [
        "La primera hidden layer está compuestas por 512 nodos (neuronas artificiales). Cada nodo recibe un elemento de un vector de entrada y le aplica pesos y un bias:"
      ]
    },
    {
      "cell_type": "code",
      "metadata": {
        "id": "wyKNHsDzCZC_",
        "colab_type": "code",
        "colab": {}
      },
      "source": [
        "model.add(Dense(512, input_shape=(784,))) #(784,) es la manera de representar un vector de longitud 784"
      ],
      "execution_count": null,
      "outputs": []
    },
    {
      "cell_type": "markdown",
      "metadata": {
        "id": "bKBGY_VdWL_O",
        "colab_type": "text"
      },
      "source": [
        "Una activación es una función no lineal que se aplica a la salida de la capa que está por encima. La activación es lo que produce que una neurona artifical dispare o no en base a la entrada.\n",
        "\n",
        "La función de activación Rectified Linear Unit (ReLU) pasa todas las entradas negativas a cero como entrada para la siguiente capa. Estas entradas \"rectificadas\" no provocan activación. Los valores positivos del nodo permanecen inalterados:\n"
      ]
    },
    {
      "cell_type": "code",
      "metadata": {
        "id": "xnlmxdtJCZDC",
        "colab_type": "code",
        "colab": {}
      },
      "source": [
        "model.add(Activation('relu'))"
      ],
      "execution_count": null,
      "outputs": []
    },
    {
      "cell_type": "markdown",
      "metadata": {
        "id": "fHoBRzB-CZDE",
        "colab_type": "text"
      },
      "source": [
        "$$f(x) = max (0,x)$$\n",
        "\n",
        "<figure>\n",
        "<center>\n",
        "<img src='https://drive.google.com/uc?export=view&id=1MEMUxhoC8RdTSwigAQ3EjVRfsQskxpTR' />\n",
        "<figcaption>Rectified Linear Unit</figcaption></center>\n",
        "</figure>"
      ]
    },
    {
      "cell_type": "markdown",
      "metadata": {
        "id": "dqvfTMNPWUxM",
        "colab_type": "text"
      },
      "source": [
        "Dropout provoca la desactivación de un número aleatorio de salidas. Dropout ayuda a protejer el modelo contra la memorización o sobreajuste de los datos de entrenamiento: "
      ]
    },
    {
      "cell_type": "code",
      "metadata": {
        "id": "Uju21kT8CZDE",
        "colab_type": "code",
        "colab": {}
      },
      "source": [
        "model.add(Dropout(0.2))"
      ],
      "execution_count": null,
      "outputs": []
    },
    {
      "cell_type": "markdown",
      "metadata": {
        "id": "BUrBEFfGCZDG",
        "colab_type": "text"
      },
      "source": [
        "## Adición de una segunda hidden layer"
      ]
    },
    {
      "cell_type": "markdown",
      "metadata": {
        "id": "eKMYy6dPWfce",
        "colab_type": "text"
      },
      "source": [
        "Una segunda hidden layer será idéntica a la primera que hemos añadido. Sin embargo, en vez de los 512 nodos que reciben vectores de longitud 784, ahora reciben 512 entradas de la salida de la primera capa:"
      ]
    },
    {
      "cell_type": "code",
      "metadata": {
        "id": "Pr8EqoXyCZDG",
        "colab_type": "code",
        "colab": {}
      },
      "source": [
        "model.add(Dense(512))\n",
        "model.add(Activation('relu'))\n",
        "model.add(Dropout(0.2))"
      ],
      "execution_count": null,
      "outputs": []
    },
    {
      "cell_type": "markdown",
      "metadata": {
        "id": "Je2OA4apCZDJ",
        "colab_type": "text"
      },
      "source": [
        "## La capa final\n",
        "\n",
        "La capa final, de 10 nodos, está completamente conectada a la capa previa de 512 nodos. La capa final de una fully connected network debería tener el mismo número de elementos que el número de clases deseadas (10 en este caso)"
      ]
    },
    {
      "cell_type": "code",
      "metadata": {
        "id": "f9mnZreqCZDJ",
        "colab_type": "code",
        "colab": {}
      },
      "source": [
        "model.add(Dense(10))"
      ],
      "execution_count": null,
      "outputs": []
    },
    {
      "cell_type": "markdown",
      "metadata": {
        "id": "honR-VJ7vGtp",
        "colab_type": "text"
      },
      "source": [
        "La activación **softmax** representa una distribución de probabilidad sobre $K$ posibles valores de salida. Sus valores son todos no negativos y su suma es 1:"
      ]
    },
    {
      "cell_type": "code",
      "metadata": {
        "id": "-1gKzJV4CZDL",
        "colab_type": "code",
        "colab": {}
      },
      "source": [
        "model.add(Activation('softmax'))"
      ],
      "execution_count": null,
      "outputs": []
    },
    {
      "cell_type": "markdown",
      "metadata": {
        "id": "elNxoBs-vbsd",
        "colab_type": "text"
      },
      "source": [
        "Mostramos un resumen del modelo:"
      ]
    },
    {
      "cell_type": "code",
      "metadata": {
        "id": "LS1bnDPoCZDN",
        "colab_type": "code",
        "colab": {
          "base_uri": "https://localhost:8080/",
          "height": 425
        },
        "outputId": "2d32d291-860a-4d6f-894d-9d3fd8bf709f"
      },
      "source": [
        "model.summary()"
      ],
      "execution_count": null,
      "outputs": [
        {
          "output_type": "stream",
          "text": [
            "Model: \"sequential_1\"\n",
            "_________________________________________________________________\n",
            "Layer (type)                 Output Shape              Param #   \n",
            "=================================================================\n",
            "dense_1 (Dense)              (None, 512)               401920    \n",
            "_________________________________________________________________\n",
            "activation_1 (Activation)    (None, 512)               0         \n",
            "_________________________________________________________________\n",
            "dropout_1 (Dropout)          (None, 512)               0         \n",
            "_________________________________________________________________\n",
            "dense_2 (Dense)              (None, 512)               262656    \n",
            "_________________________________________________________________\n",
            "activation_2 (Activation)    (None, 512)               0         \n",
            "_________________________________________________________________\n",
            "dropout_2 (Dropout)          (None, 512)               0         \n",
            "_________________________________________________________________\n",
            "dense_3 (Dense)              (None, 10)                5130      \n",
            "_________________________________________________________________\n",
            "activation_3 (Activation)    (None, 10)                0         \n",
            "=================================================================\n",
            "Total params: 669,706\n",
            "Trainable params: 669,706\n",
            "Non-trainable params: 0\n",
            "_________________________________________________________________\n"
          ],
          "name": "stdout"
        }
      ]
    },
    {
      "cell_type": "markdown",
      "metadata": {
        "id": "bKgISUYlCZDP",
        "colab_type": "text"
      },
      "source": [
        "## Compilación del modelo\n",
        "\n",
        "Keras se construye por encima de Theano y Tensorflow. Ambos paquetes permiten definir un *grafo computacional* en Python, que después se compila y ejecuta de manera eficiente en una CPU o una GPU sin la carga extra que supone el intérprete de Python.\n",
        "\n",
        "Cuando compilamos un modelo, Keras pide una **función de pérdida** (*loss function*) y un **optimizador** específico (*optimizer*). La función de pérdida que utilizaremos aquí se llama *categorical cross-entropy*, y es una función que encaja bien cuando estamos comparando dos distribuciones de probabilidad.\n",
        "\n",
        "Las predicciones que está realizando el modelo son distribuciones de probabilidad a lo largo de los 10 dígitos que tiene MNIST (por ejemplo, tenemos un 80% de certeza de que la imagen es un 3, un 10% de que es un 8, un 5% de que es un dos, etc.), y el objetivo es una distribución de probabilidad con un 100% para la categoría correcta, y 0 para todo lo demás. La entropía cruzada es una medida de cuán diferente es nuestra distribución de probabilidad de la objetivo. [Más detalles en Wikipedia](https://en.wikipedia.org/wiki/Cross_entropy)\n",
        "\n",
        "El optimizador ayuda a determinar cómo de rapido aprende el modelo usando **gradiente descendiente** (*gradient descent*). El ratio al que el gradiente desciente se llama **ratio o tasa de aprendizaje** (*learning rate*)."
      ]
    },
    {
      "cell_type": "markdown",
      "metadata": {
        "id": "KkM_XqfrCZDP",
        "colab_type": "text"
      },
      "source": [
        "<figure>\n",
        "<center>\n",
        "<img src='https://drive.google.com/uc?export=view&id=1BppY18JhMRn4bdqFexvXjVymmhkSD9mW' />\n",
        "<figcaption>Gradient Descent</figcaption></center>\n",
        "</figure>"
      ]
    },
    {
      "cell_type": "markdown",
      "metadata": {
        "id": "Rf1APwgnCZDP",
        "colab_type": "text"
      },
      "source": [
        "<figure>\n",
        "<center>\n",
        "<img src='https://drive.google.com/uc?export=view&id=1grGBrQODBVB_33QRnkeOOB1BD5pw6Cmo' />\n",
        "<figcaption>Comparación de ratios de aprendizaje</figcaption></center>\n",
        "</figure>"
      ]
    },
    {
      "cell_type": "markdown",
      "metadata": {
        "id": "hxGLOGM8CZDQ",
        "colab_type": "text"
      },
      "source": [
        "Entonces, según el gráfico ¿son mejores los ratios de aprendizaje pequeños? No, porque es importante para un optimizador no quedarse bloqueado en un mínimo local mientras se ignora el mínimo global de la función de pérdida.\n",
        "\n",
        "A veces esto implica probar una tasa de apredizaje mayor para así poder saltar de un mínimo local y alcanzar el mínimo global."
      ]
    },
    {
      "cell_type": "markdown",
      "metadata": {
        "id": "u4J1rbc6CZDQ",
        "colab_type": "text"
      },
      "source": [
        "<figure>\n",
        "<center>\n",
        "<img src='https://drive.google.com/uc?export=view&id=1wvgqphK3JRpXL1OiPYlPjxg2hbBwtwUJ' />\n",
        "<figcaption>Mínimo local y global</figcaption></center>\n",
        "</figure>"
      ]
    },
    {
      "cell_type": "markdown",
      "metadata": {
        "id": "WN70oOasx59Y",
        "colab_type": "text"
      },
      "source": [
        "Usamos el optimizador **adam** para realizar el entrenamiento:"
      ]
    },
    {
      "cell_type": "code",
      "metadata": {
        "id": "W5iidlj8CZDQ",
        "colab_type": "code",
        "colab": {}
      },
      "source": [
        "model.compile(loss='categorical_crossentropy', optimizer='adam', metrics=['accuracy'])"
      ],
      "execution_count": null,
      "outputs": []
    },
    {
      "cell_type": "markdown",
      "metadata": {
        "id": "CWH7QeK2CZDS",
        "colab_type": "text"
      },
      "source": [
        "## Entrenamiento del modelo"
      ]
    },
    {
      "cell_type": "markdown",
      "metadata": {
        "id": "UY7u7TixCZDS",
        "colab_type": "text"
      },
      "source": [
        "El tamaño del lote determina cuántos datos por paso se utilizan para computar la función de pérdida, gradientes y *back propagation*. Tamaños grandes de lote permite a la red completar el entrenamiento más rápidamente. Sin embargo, hay otros factores admás de la velocidad de entrenamiento que debemos considerar.\n",
        "\n",
        "Un tamaño de lote muy grande suaviza los mínimos locales de la función de pérdida, provocando que el optimizador se quede en ellos porque piensa que ha encontrado el mínimo global.\n",
        "\n",
        "Un tamaño de lote muy pequeño crea una función de pérdida con mucho ruído, y puede que por eso el optimizador nunca llegue a encontrar el mínimo global.\n",
        "\n",
        "La conclusión es que encontrar un buen tamaño de lote es una cuestión de prueba y error hasta dar con el ajuste que mejor resultados nos da."
      ]
    },
    {
      "cell_type": "code",
      "metadata": {
        "id": "xyT502BECZDT",
        "colab_type": "code",
        "cellView": "both",
        "colab": {
          "base_uri": "https://localhost:8080/",
          "height": 724
        },
        "outputId": "e161b871-022d-49f2-c344-b33e2d51e460"
      },
      "source": [
        "#@title Set the batch size and train the model\n",
        "batch_size = 128 #@param [128, 10000, 32] {type: 'raw'}\n",
        "epochs = 5 #@param [5, 10, 50, 100] {type: 'raw'}\n",
        "history_callback = model.fit(X_train, Y_train,\n",
        "          batch_size=batch_size, epochs=epochs,\n",
        "          verbose=1)\n",
        "pd.DataFrame(history_callback.history).plot()"
      ],
      "execution_count": null,
      "outputs": [
        {
          "output_type": "stream",
          "text": [
            "Epoch 1/5\n",
            "60000/60000 [==============================] - 2s 26us/step - loss: 0.0109 - accuracy: 0.9965\n",
            "Epoch 2/5\n",
            "60000/60000 [==============================] - 1s 24us/step - loss: 0.0125 - accuracy: 0.9962\n",
            "Epoch 3/5\n",
            "60000/60000 [==============================] - 1s 25us/step - loss: 0.0100 - accuracy: 0.9968\n",
            "Epoch 4/5\n",
            "60000/60000 [==============================] - 1s 25us/step - loss: 0.0122 - accuracy: 0.9962\n",
            "Epoch 5/5\n",
            "60000/60000 [==============================] - 2s 25us/step - loss: 0.0124 - accuracy: 0.9960\n"
          ],
          "name": "stdout"
        },
        {
          "output_type": "execute_result",
          "data": {
            "text/plain": [
              "<matplotlib.axes._subplots.AxesSubplot at 0x7f13c04e1908>"
            ]
          },
          "metadata": {
            "tags": []
          },
          "execution_count": 23
        },
        {
          "output_type": "display_data",
          "data": {
            "image/png": "[encoded data removed]",
            "text/plain": [
              "<Figure size 648x648 with 1 Axes>"
            ]
          },
          "metadata": {
            "tags": [],
            "needs_background": "light"
          }
        }
      ]
    },
    {
      "cell_type": "markdown",
      "metadata": {
        "id": "CXkno2DKCZDU",
        "colab_type": "text"
      },
      "source": [
        "Los dos número, en orden, representan el valor de la función de pérdida de la red sobre el conjunto de entrenamiento, así como la precisión general de la red sobre este conjunto.\n",
        "\n",
        "¿Cómo se comporta el modelo cuando es expuesto a datos sobre los que no ha sido entrenado?"
      ]
    },
    {
      "cell_type": "markdown",
      "metadata": {
        "id": "55zBOBeNCZDV",
        "colab_type": "text"
      },
      "source": [
        "## Evaluación de la precisión del modelo"
      ]
    },
    {
      "cell_type": "code",
      "metadata": {
        "id": "NdNjwqovCZDV",
        "colab_type": "code",
        "colab": {
          "base_uri": "https://localhost:8080/",
          "height": 68
        },
        "outputId": "7e62c00c-9953-4219-c399-4b8d41324bdd"
      },
      "source": [
        "score = model.evaluate(X_test, Y_test)\n",
        "print('Test score:', score[0])\n",
        "print('Test accuracy:', score[1])"
      ],
      "execution_count": null,
      "outputs": [
        {
          "output_type": "stream",
          "text": [
            "10000/10000 [==============================] - 0s 47us/step\n",
            "Test score: 0.05937561286153195\n",
            "Test accuracy: 0.984000027179718\n"
          ],
          "name": "stdout"
        }
      ]
    },
    {
      "cell_type": "markdown",
      "metadata": {
        "id": "Pb8_x3ExCZDX",
        "colab_type": "text"
      },
      "source": [
        "### Inspeccionando la salida\n",
        "\n",
        "Siempre es una buena idea inspeccionar la salida y asegurar que todo tiene la pinta que debería. Echaremos un vistazo a algunos ejemplos en los que el modelo acierta, y otros en los que falla."
      ]
    },
    {
      "cell_type": "markdown",
      "metadata": {
        "id": "d51XwEx90KVN",
        "colab_type": "text"
      },
      "source": [
        "La función predicted_classes devuelve la clase de más alta probabilidad de acuerdo al clasificar entrenado con los datos de entrenamiento."
      ]
    },
    {
      "cell_type": "code",
      "metadata": {
        "id": "nCAyhiK2CZDX",
        "colab_type": "code",
        "colab": {}
      },
      "source": [
        "predicted_classes = model.predict_classes(X_test)"
      ],
      "execution_count": null,
      "outputs": []
    },
    {
      "cell_type": "markdown",
      "metadata": {
        "id": "aUntxZ7z1zZQ",
        "colab_type": "text"
      },
      "source": [
        "\n",
        "Comprobamos ahora qué elementos se predijeron correctamente y cuáles no:"
      ]
    },
    {
      "cell_type": "code",
      "metadata": {
        "id": "dGjYFoJX1xCX",
        "colab_type": "code",
        "colab": {}
      },
      "source": [
        "correct_indices = np.nonzero(predicted_classes == y_test)[0]\n",
        "incorrect_indices = np.nonzero(predicted_classes != y_test)[0]"
      ],
      "execution_count": null,
      "outputs": []
    },
    {
      "cell_type": "markdown",
      "metadata": {
        "id": "k845zi4e2KDp",
        "colab_type": "text"
      },
      "source": [
        "Los pintamos:"
      ]
    },
    {
      "cell_type": "code",
      "metadata": {
        "id": "N4HaG8sFCZDa",
        "colab_type": "code",
        "colab": {
          "base_uri": "https://localhost:8080/",
          "height": 1000
        },
        "outputId": "a933fcd0-a450-4126-e2a2-b335b831b898"
      },
      "source": [
        "plt.figure()\n",
        "for i, correct in enumerate(correct_indices[:9]):\n",
        "    plt.subplot(3,3,i+1)\n",
        "    plt.imshow(X_test[correct].reshape(28,28), cmap='gray', interpolation='none')\n",
        "    plt.title(\"Predicted {}, Class {}\".format(predicted_classes[correct], y_test[correct]))\n",
        "    \n",
        "plt.tight_layout()\n",
        "    \n",
        "plt.figure()\n",
        "for i, incorrect in enumerate(incorrect_indices[:9]):\n",
        "    plt.subplot(3,3,i+1)\n",
        "    plt.imshow(X_test[incorrect].reshape(28,28), cmap='gray', interpolation='none')\n",
        "    plt.title(\"Predicted {}, Class {}\".format(predicted_classes[incorrect], y_test[incorrect]))\n",
        "    \n",
        "plt.tight_layout()"
      ],
      "execution_count": null,
      "outputs": [
        {
          "output_type": "display_data",
          "data": {
            "image/png": "[encoded data removed]",
            "text/plain": [
              "<Figure size 648x648 with 9 Axes>"
            ]
          },
          "metadata": {
            "tags": [],
            "needs_background": "light"
          }
        },
        {
          "output_type": "display_data",
          "data": {
            "image/png": "[encoded data removed]",
            "text/plain": [
              "<Figure size 648x648 with 9 Axes>"
            ]
          },
          "metadata": {
            "tags": [],
            "needs_background": "light"
          }
        }
      ]
    },
    {
      "cell_type": "markdown",
      "metadata": {
        "id": "zEo0QepdCZDc",
        "colab_type": "text"
      },
      "source": [
        "# Experimentando con el tamaño de lote\n",
        "\n",
        "¿Cómo afecta al tiempo de entrenamiento y al tamaño de lote incrementar el tamaño de lote a 10000?\n",
        "\n",
        "¿Qué ocurriría con un tamaño de lote de 32?"
      ]
    },
    {
      "cell_type": "markdown",
      "metadata": {
        "id": "5KUwbpDrCZDc",
        "colab_type": "text"
      },
      "source": [
        "# Introducción al concepto de convolución"
      ]
    },
    {
      "cell_type": "markdown",
      "metadata": {
        "id": "jAQKK5DuCZDc",
        "colab_type": "text"
      },
      "source": [
        "En los pasos previos, hemos construído una red que acepta la normalización de los valores de cada píxel de la imágen y que funciona exclusivamente con esos valores.\n",
        "\n",
        "¿Qué tal si en vez de eso alimentamos a la red con diferentes características (curvatura, bordes, etc.) de cada una de las imágenes, y dejamos que la red aprenda aquellas que son importantes para poder realizar la clasificación de la imagen?\n",
        "\n",
        "Esto es posible gracias a las convoluciones. Las convoluciones aplican **kernels** (filtros) que operan sobre cada imagen y generan lo que se llaman mapas de características."
      ]
    },
    {
      "cell_type": "markdown",
      "metadata": {
        "id": "354hpWYZCZDc",
        "colab_type": "text"
      },
      "source": [
        "<figure>\n",
        "<center>\n",
        "<img src='https://drive.google.com/uc?export=view&id=1EYRqAdUMh3r1jdDuHKqJP86HOo1BG2HS' />\n",
        "<figcaption>Convoluciones</figcaption></center>\n",
        "</figure>"
      ]
    },
    {
      "cell_type": "markdown",
      "metadata": {
        "id": "7jZknsvpCZDd",
        "colab_type": "text"
      },
      "source": [
        "En el ejemplo de más arriba, la imágen es una matrix de 5 x 5 y el kernel que la está procesando es una matriz de 3 x 3. El kernel se aplica realizando la multiplicación elemento a elemento entre el kernel y el área correspondiente de la imagen, y con esto se genera una nueva característica (convolución). Cada kernel en una CNN aprende una característica diferente de la misma imagen.\n",
        "\n",
        "Los kernels se utilizan con frecuencia en software de edición de Fotografía para aplicar difuminado, detección de bordes, resaltado de contraste, etc."
      ]
    },
    {
      "cell_type": "markdown",
      "metadata": {
        "id": "kIsKX5WfCZDd",
        "colab_type": "text"
      },
      "source": [
        "<figure>\n",
        "<center>\n",
        "<img src='https://drive.google.com/uc?export=view&id=1J6aF6TAb4e2MPh1mQgdI1iXrihLDnXa5' />\n",
        "<figcaption>Kernels</figcaption></center>\n",
        "</figure>"
      ]
    },
    {
      "cell_type": "markdown",
      "metadata": {
        "id": "0zdbwm8uCZDd",
        "colab_type": "text"
      },
      "source": [
        "Los kernels en redes neuronales profundas se usan de una manera similar, en el sentido de que resaltan una característica concreta. Combinados con una técnica llamada **max pooling**, los elementos no resaltados se descartan de cada mapa de características, dejando sólo aquellas características de interés y reduciendo así el número de parámetros que se están aprendiendo, lo que a su ven reduce el coste computacional del entrenamiento."
      ]
    },
    {
      "cell_type": "markdown",
      "metadata": {
        "id": "xwHCBozdCZDe",
        "colab_type": "text"
      },
      "source": [
        "<figure>\n",
        "<center>\n",
        "<img src='https://drive.google.com/uc?export=view&id=14-UNQi3mx5-yf9NGTN1dmtTyn_LTZ6oI' />\n",
        "<figcaption>Max pooling</figcaption></center>\n",
        "</figure>"
      ]
    },
    {
      "cell_type": "markdown",
      "metadata": {
        "id": "L8XSy3RhCZDe",
        "colab_type": "text"
      },
      "source": [
        "Támbién se pueden realizar convoluciones de las convoluciones, de forma que podemos apilar tantas convoluciones como queramos, siempre que queden suficiences pixels para acomodar al kernel.\n",
        "\n",
        "Lo que puede ocurrir es que lo que vaya apareciendo aguas abajo en las convoluciones no aparezca reconocible a un ser humando como consecuencia de la aplicación de múltiples filtros uno detrás de otro."
      ]
    },
    {
      "cell_type": "markdown",
      "metadata": {
        "id": "cnhBuIloCZDe",
        "colab_type": "text"
      },
      "source": [
        "## Construción de una red convolucional profunda\n",
        "\n",
        "Imporamos algunas herramientas y módulos adicionales:"
      ]
    },
    {
      "cell_type": "code",
      "metadata": {
        "id": "eOOdF75FCZDf",
        "colab_type": "code",
        "colab": {}
      },
      "source": [
        "from keras.preprocessing.image import ImageDataGenerator\n",
        "from keras.layers import Conv2D, MaxPooling2D, ZeroPadding2D, GlobalAveragePooling2D, Flatten\n",
        "from keras.layers.normalization import BatchNormalization"
      ],
      "execution_count": null,
      "outputs": []
    },
    {
      "cell_type": "markdown",
      "metadata": {
        "id": "7Y29CD-XKXp5",
        "colab_type": "text"
      },
      "source": [
        "Recargamos los datos de MNIST:"
      ]
    },
    {
      "cell_type": "code",
      "metadata": {
        "id": "ePkOV-OOCZDh",
        "colab_type": "code",
        "colab": {
          "base_uri": "https://localhost:8080/",
          "height": 51
        },
        "outputId": "4c00659b-d1ef-4826-fd4f-56e78c8b1777"
      },
      "source": [
        "(X_train, y_train), (X_test, y_test) = mnist.load_data()"
      ],
      "execution_count": null,
      "outputs": [
        {
          "output_type": "stream",
          "text": [
            "Downloading data from https://s3.amazonaws.com/img-datasets/mnist.npz\n",
            "11493376/11490434 [==============================] - 0s 0us/step\n"
          ],
          "name": "stdout"
        }
      ]
    },
    {
      "cell_type": "markdown",
      "metadata": {
        "id": "sC-TvmAmKcaL",
        "colab_type": "text"
      },
      "source": [
        "De nuevo, aplicamos ciertas transformaciones dimensionales y de tipos a los datos. En esta ocasión, no aplanamos las imágenes porque antes de aplicar capas densas queremos aplicar convoluciones y necesitamos la información bidimensional.\n",
        "\n",
        "Añadimos una dimensión extra para representar nuestro único canal:"
      ]
    },
    {
      "cell_type": "code",
      "metadata": {
        "id": "qAFFrNm9CZDj",
        "colab_type": "code",
        "colab": {}
      },
      "source": [
        "X_train = X_train.reshape(60000, 28, 28, 1)\n",
        "X_test = X_test.reshape(10000, 28, 28, 1)"
      ],
      "execution_count": null,
      "outputs": []
    },
    {
      "cell_type": "markdown",
      "metadata": {
        "id": "kVB7BFN5K2W_",
        "colab_type": "text"
      },
      "source": [
        "Cambiamos los enteros a número de punto flotante de 32 bits:"
      ]
    },
    {
      "cell_type": "code",
      "metadata": {
        "id": "QPf4knSVK1Z0",
        "colab_type": "code",
        "colab": {}
      },
      "source": [
        "X_train = X_train.astype('float32')         # change integers to 32-bit floating point numbers\n",
        "X_test = X_test.astype('float32')"
      ],
      "execution_count": null,
      "outputs": []
    },
    {
      "cell_type": "code",
      "metadata": {
        "id": "C4Ic6Hu9LDVj",
        "colab_type": "code",
        "colab": {}
      },
      "source": [
        ""
      ],
      "execution_count": null,
      "outputs": []
    },
    {
      "cell_type": "markdown",
      "metadata": {
        "id": "bE8qft0XK9ly",
        "colab_type": "text"
      },
      "source": [
        "Normalizamos el valor de cada pixel para muestra de la entrada:"
      ]
    },
    {
      "cell_type": "code",
      "metadata": {
        "id": "KNrDyVQVK7tU",
        "colab_type": "code",
        "colab": {
          "base_uri": "https://localhost:8080/",
          "height": 51
        },
        "outputId": "3819ab34-3010-4732-c1cf-c6a48b534cc8"
      },
      "source": [
        "X_train /= 255\n",
        "X_test /= 255\n",
        "\n",
        "print(f\"Training matrix shape: {X_train.shape}\")\n",
        "print(f\"Testing matrix shape: {X_test.shape}\")"
      ],
      "execution_count": null,
      "outputs": [
        {
          "output_type": "stream",
          "text": [
            "Training matrix shape: (60000, 28, 28, 1)\n",
            "Testing matrix shape: (10000, 28, 28, 1)\n"
          ],
          "name": "stdout"
        }
      ]
    },
    {
      "cell_type": "markdown",
      "metadata": {
        "id": "wo9at1PnLb4s",
        "colab_type": "text"
      },
      "source": [
        "Hacemos un formateado *one-hot* de las clases:"
      ]
    },
    {
      "cell_type": "code",
      "metadata": {
        "id": "jOvAjTNqCZDk",
        "colab_type": "code",
        "colab": {}
      },
      "source": [
        "nb_classes = 10 # número de dígitos\n",
        "\n",
        "Y_train = np_utils.to_categorical(y_train, nb_classes)\n",
        "Y_test = np_utils.to_categorical(y_test, nb_classes)"
      ],
      "execution_count": null,
      "outputs": []
    },
    {
      "cell_type": "markdown",
      "metadata": {
        "id": "hVL8-6EFLnH9",
        "colab_type": "text"
      },
      "source": [
        "Configuramos nuestro modelo con un API secuencia, tal y como hicimos antes:"
      ]
    },
    {
      "cell_type": "code",
      "metadata": {
        "id": "FsU_7ZqdCZDn",
        "colab_type": "code",
        "colab": {}
      },
      "source": [
        "model = Sequential()\n",
        "\n",
        "# Primera capa convolucional\n",
        "model.add(Conv2D(32, (3, 3), input_shape=(28,28,1))) # 32 kernels 3x3 diferentes -- 32 feature maps\n",
        "model.add(BatchNormalization(axis=-1))               # Normalizamos los feature maps antes de la activación\n",
        "convLayer01 = Activation('relu')                     # Activacion\n",
        "model.add(convLayer01)\n",
        "\n",
        "# Segunda capa convolucional\n",
        "model.add(Conv2D(32, (3, 3)))                        # 32 different 3x3 kernels -- so 32 feature maps\n",
        "model.add(BatchNormalization(axis=-1))               # normalize each feature map before activation\n",
        "model.add(Activation('relu'))                        # activation\n",
        "convLayer02 = MaxPooling2D(pool_size=(2,2))          # Pool the max values over a 2x2 kernel\n",
        "model.add(convLayer02)\n",
        "\n",
        "# Tercera capa convolucional\n",
        "model.add(Conv2D(64,(3, 3)))                         # 64 different 3x3 kernels -- so 64 feature maps\n",
        "model.add(BatchNormalization(axis=-1))               # normalize each feature map before activation\n",
        "convLayer03 = Activation('relu')                     # activation\n",
        "model.add(convLayer03)\n",
        "\n",
        "# Convolution Layer 4\n",
        "model.add(Conv2D(64, (3, 3)))                        # 64 different 3x3 kernels -- so 64 feature maps\n",
        "model.add(BatchNormalization(axis=-1))               # normalize each feature map before activation\n",
        "model.add(Activation('relu'))                        # activation\n",
        "convLayer04 = MaxPooling2D(pool_size=(2,2))          # Pool the max values over a 2x2 kernel\n",
        "model.add(convLayer04)\n",
        "model.add(Flatten())                                 # Flatten final 4x4x64 output matrix into a 1024-length vector\n",
        "\n",
        "# Fully Connected Layer 5\n",
        "model.add(Dense(512))                                # 512 FCN nodes\n",
        "model.add(BatchNormalization())                      # normalization\n",
        "model.add(Activation('relu'))                        # activation\n",
        "\n",
        "# Fully Connected Layer 6                       \n",
        "model.add(Dropout(0.2))                              # 20% dropout of randomly selected nodes\n",
        "model.add(Dense(10))                                 # final 10 FCN nodes\n",
        "model.add(Activation('softmax'))                     # softmax activation"
      ],
      "execution_count": null,
      "outputs": []
    },
    {
      "cell_type": "code",
      "metadata": {
        "id": "7fUHcX0tCZDp",
        "colab_type": "code",
        "colab": {
          "base_uri": "https://localhost:8080/",
          "height": 867
        },
        "outputId": "0ad0822d-0bbf-4868-c321-b2a6fdd6a0df"
      },
      "source": [
        "model.summary()"
      ],
      "execution_count": null,
      "outputs": [
        {
          "output_type": "stream",
          "text": [
            "Model: \"sequential_1\"\n",
            "_________________________________________________________________\n",
            "Layer (type)                 Output Shape              Param #   \n",
            "=================================================================\n",
            "conv2d_1 (Conv2D)            (None, 26, 26, 32)        320       \n",
            "_________________________________________________________________\n",
            "batch_normalization_1 (Batch (None, 26, 26, 32)        128       \n",
            "_________________________________________________________________\n",
            "activation_1 (Activation)    (None, 26, 26, 32)        0         \n",
            "_________________________________________________________________\n",
            "conv2d_2 (Conv2D)            (None, 24, 24, 32)        9248      \n",
            "_________________________________________________________________\n",
            "batch_normalization_2 (Batch (None, 24, 24, 32)        128       \n",
            "_________________________________________________________________\n",
            "activation_2 (Activation)    (None, 24, 24, 32)        0         \n",
            "_________________________________________________________________\n",
            "max_pooling2d_1 (MaxPooling2 (None, 12, 12, 32)        0         \n",
            "_________________________________________________________________\n",
            "conv2d_3 (Conv2D)            (None, 10, 10, 64)        18496     \n",
            "_________________________________________________________________\n",
            "batch_normalization_3 (Batch (None, 10, 10, 64)        256       \n",
            "_________________________________________________________________\n",
            "activation_3 (Activation)    (None, 10, 10, 64)        0         \n",
            "_________________________________________________________________\n",
            "conv2d_4 (Conv2D)            (None, 8, 8, 64)          36928     \n",
            "_________________________________________________________________\n",
            "batch_normalization_4 (Batch (None, 8, 8, 64)          256       \n",
            "_________________________________________________________________\n",
            "activation_4 (Activation)    (None, 8, 8, 64)          0         \n",
            "_________________________________________________________________\n",
            "max_pooling2d_2 (MaxPooling2 (None, 4, 4, 64)          0         \n",
            "_________________________________________________________________\n",
            "flatten_1 (Flatten)          (None, 1024)              0         \n",
            "_________________________________________________________________\n",
            "dense_1 (Dense)              (None, 512)               524800    \n",
            "_________________________________________________________________\n",
            "batch_normalization_5 (Batch (None, 512)               2048      \n",
            "_________________________________________________________________\n",
            "activation_5 (Activation)    (None, 512)               0         \n",
            "_________________________________________________________________\n",
            "dropout_1 (Dropout)          (None, 512)               0         \n",
            "_________________________________________________________________\n",
            "dense_2 (Dense)              (None, 10)                5130      \n",
            "_________________________________________________________________\n",
            "activation_6 (Activation)    (None, 10)                0         \n",
            "=================================================================\n",
            "Total params: 597,738\n",
            "Trainable params: 596,330\n",
            "Non-trainable params: 1,408\n",
            "_________________________________________________________________\n"
          ],
          "name": "stdout"
        }
      ]
    },
    {
      "cell_type": "markdown",
      "metadata": {
        "id": "DM2xco7syzQA",
        "colab_type": "text"
      },
      "source": [
        "Utilizamos el mismo optimizador, **adam**:"
      ]
    },
    {
      "cell_type": "code",
      "metadata": {
        "id": "udTXTzLYCZDq",
        "colab_type": "code",
        "colab": {}
      },
      "source": [
        "model.compile(loss='categorical_crossentropy', optimizer='adam', metrics=['accuracy'])"
      ],
      "execution_count": null,
      "outputs": []
    },
    {
      "cell_type": "markdown",
      "metadata": {
        "id": "0DeDievXy4ke",
        "colab_type": "text"
      },
      "source": [
        "Utilizamos las técnicas de aumentado de datos que hemos mencionado para prevenir el sobreajuste haciendo que se produzcan cambios aleatorios en varios aspectos de la imagen. Keras tiene funcionalidad incluida de manera automática para hacerlo a través del módulo `ImageDataGenerator`:"
      ]
    },
    {
      "cell_type": "code",
      "metadata": {
        "id": "j9Dtvb4ICZDs",
        "colab_type": "code",
        "colab": {}
      },
      "source": [
        "gen = ImageDataGenerator(rotation_range=8, width_shift_range=0.08, shear_range=0.3,\n",
        "                         height_shift_range=0.08, zoom_range=0.08)\n",
        "\n",
        "test_gen = ImageDataGenerator()"
      ],
      "execution_count": null,
      "outputs": []
    },
    {
      "cell_type": "markdown",
      "metadata": {
        "id": "RYF2lziBg8tl",
        "colab_type": "text"
      },
      "source": [
        "Ahora podemos alimentar los datos alimentados en lote. Además de las consideraciones sobre la función de pérdida que hicimos anteriormente, este método ahorra una cantidad considerable de memoria porque lo que estamos haciendo en realidad es cargar los datos en la red en lotes antes de procesar cada lote.\n",
        "\n",
        "Esto contrasta con la aproximación anterior, donde todos los datos se almacenaban en memoria, y luego eran procesados en lotes."
      ]
    },
    {
      "cell_type": "code",
      "metadata": {
        "id": "nTDgGujzCZDu",
        "colab_type": "code",
        "colab": {}
      },
      "source": [
        "train_generator = gen.flow(X_train, Y_train, batch_size=128)\n",
        "test_generator = test_gen.flow(X_test, Y_test, batch_size=128)"
      ],
      "execution_count": null,
      "outputs": []
    },
    {
      "cell_type": "markdown",
      "metadata": {
        "id": "U5bw2kIEhoag",
        "colab_type": "text"
      },
      "source": [
        "Entrenamos nuestro modelo, alimentándolo con el cargador de lotes. El número de pasos por época debería ser siempre el tamaño total del conjunto de entrenamiento dividido por el tamaño del lote:"
      ]
    },
    {
      "cell_type": "code",
      "metadata": {
        "id": "DxN8qvMrCZDw",
        "colab_type": "code",
        "colab": {
          "base_uri": "https://localhost:8080/",
          "height": 224
        },
        "outputId": "3e20e4c1-af90-4078-bb5a-fad1c06ec8f1"
      },
      "source": [
        "# Ahorros de memoria considerables, importante para redes más grandes y profundas\n",
        "\n",
        "model.fit_generator(train_generator, steps_per_epoch=60000//128, epochs=5, verbose=1, \n",
        "                    validation_data=test_generator, validation_steps=10000//128)"
      ],
      "execution_count": null,
      "outputs": [
        {
          "output_type": "stream",
          "text": [
            "Epoch 1/5\n",
            "468/468 [==============================] - 40s 86ms/step - loss: 0.1337 - accuracy: 0.9588 - val_loss: 0.0246 - val_accuracy: 0.9845\n",
            "Epoch 2/5\n",
            "468/468 [==============================] - 34s 73ms/step - loss: 0.0482 - accuracy: 0.9848 - val_loss: 0.0132 - val_accuracy: 0.9926\n",
            "Epoch 3/5\n",
            "468/468 [==============================] - 34s 73ms/step - loss: 0.0388 - accuracy: 0.9875 - val_loss: 0.0139 - val_accuracy: 0.9924\n",
            "Epoch 4/5\n",
            "468/468 [==============================] - 33s 71ms/step - loss: 0.0341 - accuracy: 0.9891 - val_loss: 0.1127 - val_accuracy: 0.9859\n",
            "Epoch 5/5\n",
            "468/468 [==============================] - 34s 73ms/step - loss: 0.0299 - accuracy: 0.9912 - val_loss: 0.0427 - val_accuracy: 0.9876\n"
          ],
          "name": "stdout"
        },
        {
          "output_type": "execute_result",
          "data": {
            "text/plain": [
              "<keras.callbacks.callbacks.History at 0x7f6965c7d940>"
            ]
          },
          "metadata": {
            "tags": []
          },
          "execution_count": 13
        }
      ]
    },
    {
      "cell_type": "code",
      "metadata": {
        "id": "uy9hHM--CZDx",
        "colab_type": "code",
        "colab": {
          "base_uri": "https://localhost:8080/",
          "height": 68
        },
        "outputId": "8c69c31e-5700-401b-df7f-ada6879dba85"
      },
      "source": [
        "score = model.evaluate(X_test, Y_test)\n",
        "print('Test score:', score[0])\n",
        "print('Test accuracy:', score[1])"
      ],
      "execution_count": null,
      "outputs": [
        {
          "output_type": "stream",
          "text": [
            "10000/10000 [==============================] - 2s 212us/step\n",
            "Test score: 0.03782507136474014\n",
            "Test accuracy: 0.9876999855041504\n"
          ],
          "name": "stdout"
        }
      ]
    },
    {
      "cell_type": "markdown",
      "metadata": {
        "id": "UzHu7kvaCZDz",
        "colab_type": "text"
      },
      "source": [
        "## Resultados\n",
        "\n",
        "Los resultados son bastante buenos. Sería además útil poder visualizar las convoluciones de forma que veamos lo que el modelo ve."
      ]
    },
    {
      "cell_type": "code",
      "metadata": {
        "id": "TNm6P9CGCZDz",
        "colab_type": "code",
        "colab": {}
      },
      "source": [
        "from keras import backend as K\n",
        "\n",
        "# Elegimos una de las imágenes del conjunto de test especificando su índice\n",
        "img = X_test[3]\n",
        "# Keras requiere que la imagen sea 4D, así que añadimos una dimensión extra\n",
        "img = np.expand_dims(img, axis=0)\n",
        "\n",
        "# No es importante entender la siguiente función, simplemente dibuja el contenido\n",
        "# de una capa convolucional\n",
        "\n",
        "def visualize(layer):\n",
        "    inputs = [K.learning_phase()] + model.inputs\n",
        "    \n",
        "    _convout1_f = K.function(inputs, [layer.output])\n",
        "    \n",
        "    def convout1_f(X):\n",
        "        # El [0] es para deshabilitar el flag de entrenamiento\n",
        "        return _convout1_f([0] + [X])\n",
        "\n",
        "    convolutions = convout1_f(img)\n",
        "    convolutions = np.squeeze(convolutions)\n",
        "\n",
        "    print ('Shape of conv:', convolutions.shape)\n",
        "    \n",
        "    m = convolutions.shape[2]\n",
        "    n = int(np.ceil(np.sqrt(m)))\n",
        "    \n",
        "    # Visualización de cada filtro de la capa\n",
        "    fig = plt.figure(figsize=(15,12))\n",
        "    for i in range(m):\n",
        "        ax = fig.add_subplot(n,n,i+1)\n",
        "        ax.imshow(convolutions[:,:,i], cmap='gray')\n"
      ],
      "execution_count": null,
      "outputs": []
    },
    {
      "cell_type": "code",
      "metadata": {
        "id": "_LCiX4z0CZD2",
        "colab_type": "code",
        "colab": {
          "base_uri": "https://localhost:8080/",
          "height": 282
        },
        "outputId": "36b43619-0a78-443c-a3aa-64c90150ba88"
      },
      "source": [
        "plt.figure()\n",
        "plt.imshow(X_test[3].reshape(28,28), cmap='gray', interpolation='none')"
      ],
      "execution_count": null,
      "outputs": [
        {
          "output_type": "execute_result",
          "data": {
            "text/plain": [
              "<matplotlib.image.AxesImage at 0x7f696587bac8>"
            ]
          },
          "metadata": {
            "tags": []
          },
          "execution_count": 16
        },
        {
          "output_type": "display_data",
          "data": {
            "image/png": "[encoded data removed]",
            "text/plain": [
              "<Figure size 432x288 with 1 Axes>"
            ]
          },
          "metadata": {
            "tags": [],
            "needs_background": "light"
          }
        }
      ]
    },
    {
      "cell_type": "markdown",
      "metadata": {
        "id": "1OeTCXZmjkIM",
        "colab_type": "text"
      },
      "source": [
        "Visualizamos el primer conjunto de feature maps"
      ]
    },
    {
      "cell_type": "code",
      "metadata": {
        "id": "3wKQL5McCZD4",
        "colab_type": "code",
        "colab": {
          "base_uri": "https://localhost:8080/",
          "height": 719
        },
        "outputId": "af7dcad4-e354-4574-bc92-bb37cfb566a1"
      },
      "source": [
        "visualize(convLayer01)"
      ],
      "execution_count": null,
      "outputs": [
        {
          "output_type": "stream",
          "text": [
            "Shape of conv: (26, 26, 32)\n"
          ],
          "name": "stdout"
        },
        {
          "output_type": "display_data",
          "data": {
            "image/png": "[encoded data removed]",
            "text/plain": [
              "<Figure size 1080x864 with 32 Axes>"
            ]
          },
          "metadata": {
            "tags": [],
            "needs_background": "light"
          }
        }
      ]
    },
    {
      "cell_type": "markdown",
      "metadata": {
        "id": "6-c-tcKrjqjq",
        "colab_type": "text"
      },
      "source": [
        "Visualizamos el segundo ocnjunto de feature maps"
      ]
    },
    {
      "cell_type": "code",
      "metadata": {
        "id": "pDj9LegkCZD6",
        "colab_type": "code",
        "colab": {
          "base_uri": "https://localhost:8080/",
          "height": 717
        },
        "outputId": "af7d7192-4e96-4c94-da99-e5264f5c3c02"
      },
      "source": [
        "visualize(convLayer02)"
      ],
      "execution_count": null,
      "outputs": [
        {
          "output_type": "stream",
          "text": [
            "Shape of conv: (12, 12, 32)\n"
          ],
          "name": "stdout"
        },
        {
          "output_type": "display_data",
          "data": {
            "image/png": "[encoded data removed]",
            "text/plain": [
              "<Figure size 1080x864 with 32 Axes>"
            ]
          },
          "metadata": {
            "tags": [],
            "needs_background": "light"
          }
        }
      ]
    },
    {
      "cell_type": "markdown",
      "metadata": {
        "id": "Iz3Yes5vjxUQ",
        "colab_type": "text"
      },
      "source": [
        "Visualizamos el tercer conjunto de feature maps:"
      ]
    },
    {
      "cell_type": "code",
      "metadata": {
        "id": "IanSzNUoCZD8",
        "colab_type": "code",
        "colab": {
          "base_uri": "https://localhost:8080/",
          "height": 718
        },
        "outputId": "9e4e95b7-1698-4b2f-8026-ccd840e49d70"
      },
      "source": [
        "visualize(convLayer03)"
      ],
      "execution_count": null,
      "outputs": [
        {
          "output_type": "stream",
          "text": [
            "Shape of conv: (10, 10, 64)\n"
          ],
          "name": "stdout"
        },
        {
          "output_type": "display_data",
          "data": {
            "image/png": "[encoded data removed]",
            "text/plain": [
              "<Figure size 1080x864 with 64 Axes>"
            ]
          },
          "metadata": {
            "tags": [],
            "needs_background": "light"
          }
        }
      ]
    },
    {
      "cell_type": "markdown",
      "metadata": {
        "id": "Ui23ZHHsj3j9",
        "colab_type": "text"
      },
      "source": [
        "Visualizamos el cuarto conjunto de feature maps:"
      ]
    },
    {
      "cell_type": "code",
      "metadata": {
        "id": "Rn2Z_ljNCZD-",
        "colab_type": "code",
        "colab": {
          "base_uri": "https://localhost:8080/",
          "height": 717
        },
        "outputId": "aa41a638-343a-4e30-9ae7-8681e1f19cf3"
      },
      "source": [
        "visualize(convLayer04)"
      ],
      "execution_count": null,
      "outputs": [
        {
          "output_type": "stream",
          "text": [
            "Shape of conv: (4, 4, 64)\n"
          ],
          "name": "stdout"
        },
        {
          "output_type": "display_data",
          "data": {
            "image/png": "[encoded data removed]",
            "text/plain": [
              "<Figure size 1080x864 with 64 Axes>"
            ]
          },
          "metadata": {
            "tags": [],
            "needs_background": "light"
          }
        }
      ]
    },
    {
      "cell_type": "markdown",
      "metadata": {
        "id": "rEEcNUg0CZEA",
        "colab_type": "text"
      },
      "source": [
        "Para una visualización tridimensional de una red muy similar, visitar http://scs.ryerson.ca/~aharley/vis/conv/"
      ]
    },
    {
      "cell_type": "code",
      "metadata": {
        "id": "84YswRFikD9k",
        "colab_type": "code",
        "colab": {}
      },
      "source": [
        ""
      ],
      "execution_count": null,
      "outputs": []
    }
  ]
}