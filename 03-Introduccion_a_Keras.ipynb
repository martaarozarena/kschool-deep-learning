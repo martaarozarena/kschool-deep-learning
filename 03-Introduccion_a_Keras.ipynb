{
  "nbformat": 4,
  "nbformat_minor": 0,
  "metadata": {
    "anaconda-cloud": {},
    "kernelspec": {
      "display_name": "Python 3",
      "language": "python",
      "name": "python3"
    },
    "language_info": {
      "codemirror_mode": {
        "name": "ipython",
        "version": 3
      },
      "file_extension": ".py",
      "mimetype": "text/x-python",
      "name": "python",
      "nbconvert_exporter": "python",
      "pygments_lexer": "ipython3",
      "version": "3.7.1"
    },
    "colab": {
      "name": "redes-convolucionales.ipynb",
      "provenance": [],
      "toc_visible": true
    },
    "accelerator": "GPU"
  },
  "cells": [
    {
      "cell_type": "markdown",
      "metadata": {
        "id": "KrBGu0P3AwtJ",
        "colab_type": "text"
      },
      "source": [
        "# Introducción a Keras\n",
        "\n",
        "Vamos a hacer una introducción a Keras en este cuaderno. Lo primero será importar los módulos habituales:"
      ]
    },
    {
      "cell_type": "code",
      "metadata": {
        "id": "sdkTfLM397or",
        "colab_type": "code",
        "colab": {}
      },
      "source": [
        "import numpy as np\n",
        "import matplotlib.pyplot as plt\n",
        "% matplotlib inline\n",
        "plt.rcParams[\"savefig.dpi\"] = 300\n",
        "plt.rcParams[\"savefig.bbox\"] = \"tight\"\n",
        "plt.rcParams[\"figure.figsize\"] = [16,9]\n",
        "np.set_printoptions(precision=3, suppress=True)\n",
        "import pandas as pd\n",
        "from sklearn.model_selection import train_test_split, cross_val_score\n",
        "from sklearn.pipeline import make_pipeline\n",
        "from sklearn.preprocessing import scale, StandardScaler"
      ],
      "execution_count": null,
      "outputs": []
    },
    {
      "cell_type": "markdown",
      "metadata": {
        "id": "OK9AF7FdE_P_",
        "colab_type": "text"
      },
      "source": [
        "## Keras Sequential Interface\n",
        "\n",
        "Vamos a empezar con una introducción al interfaz secuencial de Keras. Keras tiene varios interfaces (`Sequential`, `Functional`...), pero vamos a comenzar con el secuencial. Define una red neuronal como una secuencia de pasos."
      ]
    },
    {
      "cell_type": "markdown",
      "metadata": {
        "id": "BvBhQ5vvGmuC",
        "colab_type": "text"
      },
      "source": [
        "\n",
        "\n",
        "Importamos dos tipos de capas:\n",
        "\n",
        "- `Dense`: multiplicación de matrices\n",
        "- `Activation` que no es más que una función de activación.\n",
        "\n",
        "En la variable `model` especificamos la red como una lista de capas\n",
        "\n",
        "- La primera capa es densa tiene una entrada de 784 características como un vector, y una dimensión de 32 nodos ocultos\n",
        "- Una capa de activación ReLU\n",
        "- Otra capa densa que será la capa de salida ya que es la última, con una activación SoftMax.\n",
        "\n",
        "Con esta red estaremos trabajando sobre MNIST, con 784 características de entrada como ya hemos dicho y 10 tareas de clasificación de diferentes clases.\n",
        "\n",
        "Para la primera capa tenemos que especificar las dimensiones de entrada para que la red sea capaz de reservar el espacio necessario para las matrices de las diferentes capas. La red determina el tamaño de la entrada de cada capa automática:\n",
        "\n",
        "- La primera capa densa tendrá una dimensión de (784, 32)\n",
        "- La segunda, tendrá una dimensión de (32,10):\n"
      ]
    },
    {
      "cell_type": "code",
      "metadata": {
        "id": "MOzdFbme97o0",
        "colab_type": "code",
        "colab": {
          "base_uri": "https://localhost:8080/",
          "height": 34
        },
        "outputId": "52770f4e-7987-483b-a1b7-5f6712325cbb"
      },
      "source": [
        "from keras.models import Sequential\n",
        "from keras.layers import Dense, Activation\n",
        "\n",
        "model = Sequential([\n",
        "    Dense(32, input_shape=(784,)),\n",
        "    Activation('relu'),\n",
        "    Dense(10),\n",
        "    Activation('softmax'),\n",
        "])"
      ],
      "execution_count": null,
      "outputs": [
        {
          "output_type": "stream",
          "text": [
            "Using TensorFlow backend.\n"
          ],
          "name": "stderr"
        }
      ]
    },
    {
      "cell_type": "markdown",
      "metadata": {
        "id": "WkEtWIDBGrsq",
        "colab_type": "text"
      },
      "source": [
        "También podemos especificar el modelo empezando con una instancia vacía de `Sequential` e ir añadiendo con el método `add` las capas una a una:"
      ]
    },
    {
      "cell_type": "code",
      "metadata": {
        "id": "2urLSQlQ97o6",
        "colab_type": "code",
        "colab": {}
      },
      "source": [
        "model = Sequential()\n",
        "model.add(Dense(32, input_dim=784))\n",
        "model.add(Activation('relu'))"
      ],
      "execution_count": null,
      "outputs": []
    },
    {
      "cell_type": "markdown",
      "metadata": {
        "id": "iH_FASefG84o",
        "colab_type": "text"
      },
      "source": [
        "También podemos especificar de manera más compacta todas las capas simultáneamente pasándolas como parámetro en una lista a la clase `Sequential`:"
      ]
    },
    {
      "cell_type": "code",
      "metadata": {
        "id": "SlAVrefI97pA",
        "colab_type": "code",
        "colab": {}
      },
      "source": [
        "model = Sequential([\n",
        "    Dense(32, input_shape=(784,)),\n",
        "    Activation('relu'),\n",
        "    Dense(10),\n",
        "    Activation('softmax'),\n",
        "])"
      ],
      "execution_count": null,
      "outputs": []
    },
    {
      "cell_type": "markdown",
      "metadata": {
        "id": "9a0FIwIDHSVc",
        "colab_type": "text"
      },
      "source": [
        "Al hacer esto, también podemos especificar las activaciones de cada una de las capas densas como parámetro de cada una de los elementos de la lista en vez de como capa separada:"
      ]
    },
    {
      "cell_type": "code",
      "metadata": {
        "id": "mrQdRTPT97o-",
        "colab_type": "code",
        "colab": {}
      },
      "source": [
        "model = Sequential([\n",
        "    Dense(32, input_shape=(784,), activation='relu'),\n",
        "    Dense(10, activation='softmax'),\n",
        "])"
      ],
      "execution_count": null,
      "outputs": []
    },
    {
      "cell_type": "markdown",
      "metadata": {
        "id": "i7H4WSj6H2K4",
        "colab_type": "text"
      },
      "source": [
        "Un método muy interesante de que dispone el modelo es `summary`, que nos permite ver de un vistazo las diferentes dimensiones de entrada de cada capa y el número de parámetros que contiene."
      ]
    },
    {
      "cell_type": "code",
      "metadata": {
        "id": "vT6_K1-L97pG",
        "colab_type": "code",
        "colab": {
          "base_uri": "https://localhost:8080/",
          "height": 221
        },
        "outputId": "8f5a029a-1ae3-4604-adea-7ca3eeb4740e"
      },
      "source": [
        "model.summary()"
      ],
      "execution_count": null,
      "outputs": [
        {
          "output_type": "stream",
          "text": [
            "Model: \"sequential_4\"\n",
            "_________________________________________________________________\n",
            "Layer (type)                 Output Shape              Param #   \n",
            "=================================================================\n",
            "dense_6 (Dense)              (None, 32)                25120     \n",
            "_________________________________________________________________\n",
            "dense_7 (Dense)              (None, 10)                330       \n",
            "=================================================================\n",
            "Total params: 25,450\n",
            "Trainable params: 25,450\n",
            "Non-trainable params: 0\n",
            "_________________________________________________________________\n"
          ],
          "name": "stdout"
        }
      ]
    },
    {
      "cell_type": "markdown",
      "metadata": {
        "id": "Q6sXwO9QIgmf",
        "colab_type": "text"
      },
      "source": [
        "Puede observarse en el número de parámetros que están considerados todos los componentes del vector de biases:"
      ]
    },
    {
      "cell_type": "code",
      "metadata": {
        "id": "HZ3nznIPIdkD",
        "colab_type": "code",
        "colab": {
          "base_uri": "https://localhost:8080/",
          "height": 34
        },
        "outputId": "d75ec991-4c90-4b3a-d50f-f0465e0577a7"
      },
      "source": [
        "(32)*(784) + 32"
      ],
      "execution_count": null,
      "outputs": [
        {
          "output_type": "execute_result",
          "data": {
            "text/plain": [
              "25120"
            ]
          },
          "metadata": {
            "tags": []
          },
          "execution_count": 6
        }
      ]
    },
    {
      "cell_type": "code",
      "metadata": {
        "id": "15h3troxJ2PN",
        "colab_type": "code",
        "colab": {
          "base_uri": "https://localhost:8080/",
          "height": 34
        },
        "outputId": "bde9a670-b026-4896-f10a-3354cfcfc2aa"
      },
      "source": [
        "32*10 + 10"
      ],
      "execution_count": null,
      "outputs": [
        {
          "output_type": "execute_result",
          "data": {
            "text/plain": [
              "330"
            ]
          },
          "metadata": {
            "tags": []
          },
          "execution_count": 7
        }
      ]
    },
    {
      "cell_type": "markdown",
      "metadata": {
        "id": "BWTt6oNSgsXy",
        "colab_type": "text"
      },
      "source": [
        "El número de parámetros en la red, como ya se mencionó, es una manera de caracterizar el nivel de grados de libertad y por tanto la complejidad de la red. En este caso, aunque la red es muy pequeña, tenemos 25000 parámetros que aprender."
      ]
    },
    {
      "cell_type": "markdown",
      "metadata": {
        "id": "z4oix3tzHkr3",
        "colab_type": "text"
      },
      "source": [
        "Compilamos el modelo invocando al método `compile` y pasándole como parámetros le optimizador, la función de pérdida a utilizar y la métrica que estamos interesados en obtener.\n",
        "\n",
        "Usamos adam optimizer, que es una buena elección de partida (consultar siempre la documentación). Para una salida Softmax, `categorical_crossentropy` es el parámetro que debemos utilizar.\n",
        "\n",
        "Fijar la métrica en `accuracy` nos va a ayudar en medir el rendimiento de generalización y la convergencia de la red."
      ]
    },
    {
      "cell_type": "code",
      "metadata": {
        "id": "caDunl7Q97pD",
        "colab_type": "code",
        "colab": {}
      },
      "source": [
        "model.compile(\"adam\", \"categorical_crossentropy\", metrics=['accuracy'])"
      ],
      "execution_count": null,
      "outputs": []
    },
    {
      "cell_type": "markdown",
      "metadata": {
        "id": "TNLpPdAipuJ6",
        "colab_type": "text"
      },
      "source": [
        "## Carga de datos y entrenamiento\n",
        "\n",
        "Como hemos dicho, vamos a trabajar con MNIST. "
      ]
    },
    {
      "cell_type": "code",
      "metadata": {
        "id": "fPEKYnDl97pJ",
        "colab_type": "code",
        "colab": {
          "base_uri": "https://localhost:8080/",
          "height": 51
        },
        "outputId": "d7256395-5fa3-47e6-87e1-374115e6d92d"
      },
      "source": [
        "from keras.datasets import mnist\n",
        "import keras\n",
        "\n",
        "(X_train, y_train), (X_test, y_test) = mnist.load_data()"
      ],
      "execution_count": null,
      "outputs": [
        {
          "output_type": "stream",
          "text": [
            "Downloading data from https://s3.amazonaws.com/img-datasets/mnist.npz\n",
            "11493376/11490434 [==============================] - 1s 0us/step\n"
          ],
          "name": "stdout"
        }
      ]
    },
    {
      "cell_type": "markdown",
      "metadata": {
        "id": "SA9n1VV4rU3j",
        "colab_type": "text"
      },
      "source": [
        "Hacemos preprocesado de los datos que acabamos de cargar, hacemos un reshape para aplanar las imágenes, cambiamos los pixels a float y normalizamos los valores por el máximo que es 255 (este escalado funciona mejor que un minmax, que escalaría por pixel y no es lo que queremos). Es 255 porque son imágenes en tonos de gris con valores de pixel de 0 a 255.\n",
        "\n",
        "Tenemos que hacer *une hot encoding* de la variable objetivo para que la capa de salida, que tiene 10 unidades, tenga las dimensiones correctas. Para ello utilizamos un método de la clase `utils` de Keras pensado exclusivamente para esto que se llama `to_categorical`:"
      ]
    },
    {
      "cell_type": "code",
      "metadata": {
        "id": "b1p5yrJ597pL",
        "colab_type": "code",
        "colab": {
          "base_uri": "https://localhost:8080/",
          "height": 51
        },
        "outputId": "8817c43c-7984-42d1-f440-1eb7aa1ffe9e"
      },
      "source": [
        "X_train = X_train.reshape(60000, 784)\n",
        "X_test = X_test.reshape(10000, 784)\n",
        "X_train = X_train.astype('float32')\n",
        "X_test = X_test.astype('float32')\n",
        "X_train /= 255\n",
        "X_test /= 255\n",
        "print(X_train.shape[0], 'train samples')\n",
        "print(X_test.shape[0], 'test samples')\n",
        "\n",
        "num_classes = 10\n",
        "# convert class vectors to binary class matrices\n",
        "y_train = keras.utils.to_categorical(y_train, num_classes)\n",
        "y_test = keras.utils.to_categorical(y_test, num_classes)"
      ],
      "execution_count": null,
      "outputs": [
        {
          "output_type": "stream",
          "text": [
            "60000 train samples\n",
            "10000 test samples\n"
          ],
          "name": "stdout"
        }
      ]
    },
    {
      "cell_type": "markdown",
      "metadata": {
        "id": "lAnNiW7chuc0",
        "colab_type": "text"
      },
      "source": [
        "Para entrenar el modelo con nuestros datso de entrada, llamamos al método `fit` (similar a Scikit-Learn). En Keras `fit` admite bastantes argumentos como se puede ver en la [https://keras.io/api/models/model_training_apis/#fit-method](documentación).\n",
        "\n",
        "Configuramos el tamaño del lote a 128, y hacemos que el entrenamiento funcione por 10 épocas:"
      ]
    },
    {
      "cell_type": "code",
      "metadata": {
        "id": "eL-poZzs97pN",
        "colab_type": "code",
        "colab": {
          "base_uri": "https://localhost:8080/",
          "height": 374
        },
        "outputId": "bfc0ed95-b8d1-4116-be4f-067d19eb28b9"
      },
      "source": [
        "model.fit(X_train, y_train, batch_size=128, epochs=10, verbose=1)"
      ],
      "execution_count": null,
      "outputs": [
        {
          "output_type": "stream",
          "text": [
            "Epoch 1/10\n",
            "60000/60000 [==============================] - 3s 55us/step - loss: 0.5066 - accuracy: 0.8610\n",
            "Epoch 2/10\n",
            "60000/60000 [==============================] - 2s 27us/step - loss: 0.2444 - accuracy: 0.9311\n",
            "Epoch 3/10\n",
            "60000/60000 [==============================] - 2s 29us/step - loss: 0.1984 - accuracy: 0.9432\n",
            "Epoch 4/10\n",
            "60000/60000 [==============================] - 2s 30us/step - loss: 0.1708 - accuracy: 0.9509\n",
            "Epoch 5/10\n",
            "60000/60000 [==============================] - 2s 34us/step - loss: 0.1511 - accuracy: 0.9566\n",
            "Epoch 6/10\n",
            "60000/60000 [==============================] - 2s 30us/step - loss: 0.1368 - accuracy: 0.9606\n",
            "Epoch 7/10\n",
            "60000/60000 [==============================] - 2s 29us/step - loss: 0.1260 - accuracy: 0.9633\n",
            "Epoch 8/10\n",
            "60000/60000 [==============================] - 2s 29us/step - loss: 0.1164 - accuracy: 0.9657\n",
            "Epoch 9/10\n",
            "60000/60000 [==============================] - 2s 30us/step - loss: 0.1088 - accuracy: 0.9678\n",
            "Epoch 10/10\n",
            "60000/60000 [==============================] - 2s 29us/step - loss: 0.1014 - accuracy: 0.9703\n"
          ],
          "name": "stdout"
        },
        {
          "output_type": "execute_result",
          "data": {
            "text/plain": [
              "<keras.callbacks.callbacks.History at 0x7f1f67e1e6d8>"
            ]
          },
          "metadata": {
            "tags": []
          },
          "execution_count": 11
        }
      ]
    },
    {
      "cell_type": "markdown",
      "metadata": {
        "id": "TRf1z58qtkJ6",
        "colab_type": "text"
      },
      "source": [
        "La pérdida que mostramos aquí es la entropía cruzada que decrece con el entrenamiento y la precisión de entrenamiento va incrementándose hasta llegar a un número que no es demasiado bueno para MNIST, pero que dada la red tan pequeña que hemos configurado no está mal."
      ]
    },
    {
      "cell_type": "markdown",
      "metadata": {
        "id": "iOJMs0NNvU0w",
        "colab_type": "text"
      },
      "source": [
        "Ahora lo que podemos hacer es evaluar el modelo en el conjunto de test, utilizando el método `evaluate`, que es similar a `score` en Scikit-Learn y nos devuleve una tupla con la pérdida y la precisión."
      ]
    },
    {
      "cell_type": "code",
      "metadata": {
        "id": "EyUDJST397pQ",
        "colab_type": "code",
        "colab": {
          "base_uri": "https://localhost:8080/",
          "height": 51
        },
        "outputId": "3570dec3-2eb1-4727-dfba-9c7f78e5caf5"
      },
      "source": [
        "score = model.evaluate(X_test, y_test, verbose=0)\n",
        "print(\"Test loss: {:.3f}\".format(score[0]))\n",
        "print(\"Test Accuracy: {:.3f}\".format(score[1]))"
      ],
      "execution_count": null,
      "outputs": [
        {
          "output_type": "stream",
          "text": [
            "Test loss: 0.122\n",
            "Test Accuracy: 0.964\n"
          ],
          "name": "stdout"
        }
      ]
    },
    {
      "cell_type": "markdown",
      "metadata": {
        "id": "Utr3DB5fvmV_",
        "colab_type": "text"
      },
      "source": [
        "Como hemos dicho, los resultados no son muy buenos pero para la arquitectura de red que tenemos no están tan mal."
      ]
    },
    {
      "cell_type": "code",
      "metadata": {
        "id": "Kci6DLg997pS",
        "colab_type": "code",
        "colab": {}
      },
      "source": [
        "# Recreamos para resetear\n",
        "model = Sequential([\n",
        "    Dense(32, input_shape=(784,)),\n",
        "    Activation('relu'),\n",
        "    Dense(10),\n",
        "    Activation('softmax'),\n",
        "])\n",
        "model.compile(\"adam\", \"categorical_crossentropy\", metrics=['accuracy'])"
      ],
      "execution_count": null,
      "outputs": []
    },
    {
      "cell_type": "markdown",
      "metadata": {
        "id": "Ckuss_g8rHqP",
        "colab_type": "text"
      },
      "source": [
        "Ahora hacemos un split de validación, en este caso estamos reservando el 10% de los datos."
      ]
    },
    {
      "cell_type": "code",
      "metadata": {
        "id": "kQu2wfXg97pU",
        "colab_type": "code",
        "colab": {
          "base_uri": "https://localhost:8080/",
          "height": 411
        },
        "outputId": "4a4c2075-a326-49bc-98dc-0abda81f2eb4"
      },
      "source": [
        "model.fit(X_train, y_train, batch_size=128, epochs=10, verbose=1, validation_split=.1)"
      ],
      "execution_count": null,
      "outputs": [
        {
          "output_type": "stream",
          "text": [
            "Train on 54000 samples, validate on 6000 samples\n",
            "Epoch 1/10\n",
            "54000/54000 [==============================] - 2s 30us/step - loss: 0.5560 - accuracy: 0.8482 - val_loss: 0.2425 - val_accuracy: 0.9320\n",
            "Epoch 2/10\n",
            "54000/54000 [==============================] - 2s 30us/step - loss: 0.2673 - accuracy: 0.9249 - val_loss: 0.1887 - val_accuracy: 0.9493\n",
            "Epoch 3/10\n",
            "54000/54000 [==============================] - 2s 30us/step - loss: 0.2160 - accuracy: 0.9390 - val_loss: 0.1641 - val_accuracy: 0.9552\n",
            "Epoch 4/10\n",
            "54000/54000 [==============================] - 2s 29us/step - loss: 0.1844 - accuracy: 0.9477 - val_loss: 0.1486 - val_accuracy: 0.9615\n",
            "Epoch 5/10\n",
            "54000/54000 [==============================] - 2s 32us/step - loss: 0.1631 - accuracy: 0.9529 - val_loss: 0.1382 - val_accuracy: 0.9630\n",
            "Epoch 6/10\n",
            "54000/54000 [==============================] - 2s 30us/step - loss: 0.1445 - accuracy: 0.9589 - val_loss: 0.1342 - val_accuracy: 0.9637\n",
            "Epoch 7/10\n",
            "54000/54000 [==============================] - 2s 29us/step - loss: 0.1315 - accuracy: 0.9614 - val_loss: 0.1226 - val_accuracy: 0.9685\n",
            "Epoch 8/10\n",
            "54000/54000 [==============================] - 2s 29us/step - loss: 0.1202 - accuracy: 0.9644 - val_loss: 0.1176 - val_accuracy: 0.9698\n",
            "Epoch 9/10\n",
            "54000/54000 [==============================] - 2s 30us/step - loss: 0.1118 - accuracy: 0.9673 - val_loss: 0.1167 - val_accuracy: 0.9683\n",
            "Epoch 10/10\n",
            "54000/54000 [==============================] - 2s 29us/step - loss: 0.1045 - accuracy: 0.9690 - val_loss: 0.1148 - val_accuracy: 0.9687\n"
          ],
          "name": "stdout"
        },
        {
          "output_type": "execute_result",
          "data": {
            "text/plain": [
              "<keras.callbacks.callbacks.History at 0x7f1f252a3908>"
            ]
          },
          "metadata": {
            "tags": []
          },
          "execution_count": 14
        }
      ]
    },
    {
      "cell_type": "markdown",
      "metadata": {
        "id": "5LXH9W4LuKW9",
        "colab_type": "text"
      },
      "source": [
        "Ahora tenemos también la pérdida y la precisión en el conjunto de validación. La que realmente nos interesa es la de más a la derecha (precisión de validación), que nos está indicando cómo están generalizado la red.\n",
        "\n",
        "Lo único garantizado en entrenamiento es que la pérdida de entrenamiento irá decreciendo. En este caso la red no llega a hacer sobreajuste."
      ]
    },
    {
      "cell_type": "markdown",
      "metadata": {
        "id": "6ogJ2C3gv7AX",
        "colab_type": "text"
      },
      "source": [
        "## Loggers y Callbacks\n",
        "\n",
        "Keras nos da un callback devuelto de la llamada al método `fit` que nos dará más detalles de lo que está pasando almacenando los resultados de una manera ordenada:"
      ]
    },
    {
      "cell_type": "code",
      "metadata": {
        "scrolled": true,
        "id": "rTaM_LlM97pW",
        "colab_type": "code",
        "colab": {
          "base_uri": "https://localhost:8080/",
          "height": 1000
        },
        "outputId": "83bc29a3-e32d-4ea2-b34f-3b779a8c5811"
      },
      "source": [
        "model = Sequential([\n",
        "    Dense(32, input_shape=(784,), activation='relu'),\n",
        "    Dense(10, activation='softmax'),\n",
        "])\n",
        "model.compile(\"adam\", \"categorical_crossentropy\", metrics=['accuracy'])\n",
        "history_callback = model.fit(X_train, y_train, batch_size=128,\n",
        "                             epochs=100, verbose=1, validation_split=.1)"
      ],
      "execution_count": null,
      "outputs": [
        {
          "output_type": "stream",
          "text": [
            "Train on 54000 samples, validate on 6000 samples\n",
            "Epoch 1/100\n",
            "54000/54000 [==============================] - 2s 31us/step - loss: 0.5546 - accuracy: 0.8475 - val_loss: 0.2523 - val_accuracy: 0.9327\n",
            "Epoch 2/100\n",
            "54000/54000 [==============================] - 2s 29us/step - loss: 0.2722 - accuracy: 0.9227 - val_loss: 0.1997 - val_accuracy: 0.9437\n",
            "Epoch 3/100\n",
            "54000/54000 [==============================] - 2s 29us/step - loss: 0.2224 - accuracy: 0.9357 - val_loss: 0.1691 - val_accuracy: 0.9542\n",
            "Epoch 4/100\n",
            "54000/54000 [==============================] - 2s 30us/step - loss: 0.1922 - accuracy: 0.9441 - val_loss: 0.1511 - val_accuracy: 0.9607\n",
            "Epoch 5/100\n",
            "54000/54000 [==============================] - 2s 29us/step - loss: 0.1707 - accuracy: 0.9496 - val_loss: 0.1453 - val_accuracy: 0.9608\n",
            "Epoch 6/100\n",
            "54000/54000 [==============================] - 2s 30us/step - loss: 0.1549 - accuracy: 0.9551 - val_loss: 0.1388 - val_accuracy: 0.9612\n",
            "Epoch 7/100\n",
            "54000/54000 [==============================] - 2s 32us/step - loss: 0.1420 - accuracy: 0.9584 - val_loss: 0.1308 - val_accuracy: 0.9647\n",
            "Epoch 8/100\n",
            "54000/54000 [==============================] - 2s 28us/step - loss: 0.1302 - accuracy: 0.9621 - val_loss: 0.1258 - val_accuracy: 0.9613\n",
            "Epoch 9/100\n",
            "54000/54000 [==============================] - 2s 32us/step - loss: 0.1212 - accuracy: 0.9647 - val_loss: 0.1226 - val_accuracy: 0.9643\n",
            "Epoch 10/100\n",
            "54000/54000 [==============================] - 2s 29us/step - loss: 0.1125 - accuracy: 0.9676 - val_loss: 0.1169 - val_accuracy: 0.9650\n",
            "Epoch 11/100\n",
            "54000/54000 [==============================] - 2s 33us/step - loss: 0.1059 - accuracy: 0.9692 - val_loss: 0.1136 - val_accuracy: 0.9670\n",
            "Epoch 12/100\n",
            "54000/54000 [==============================] - 2s 29us/step - loss: 0.0997 - accuracy: 0.9706 - val_loss: 0.1107 - val_accuracy: 0.9677\n",
            "Epoch 13/100\n",
            "54000/54000 [==============================] - 2s 29us/step - loss: 0.0941 - accuracy: 0.9724 - val_loss: 0.1118 - val_accuracy: 0.9667\n",
            "Epoch 14/100\n",
            "54000/54000 [==============================] - 2s 31us/step - loss: 0.0887 - accuracy: 0.9735 - val_loss: 0.1107 - val_accuracy: 0.9685\n",
            "Epoch 15/100\n",
            "54000/54000 [==============================] - 2s 29us/step - loss: 0.0847 - accuracy: 0.9751 - val_loss: 0.1086 - val_accuracy: 0.9695\n",
            "Epoch 16/100\n",
            "54000/54000 [==============================] - 2s 29us/step - loss: 0.0809 - accuracy: 0.9759 - val_loss: 0.1081 - val_accuracy: 0.9698\n",
            "Epoch 17/100\n",
            "54000/54000 [==============================] - 2s 29us/step - loss: 0.0764 - accuracy: 0.9776 - val_loss: 0.1080 - val_accuracy: 0.9677\n",
            "Epoch 18/100\n",
            "54000/54000 [==============================] - 2s 29us/step - loss: 0.0734 - accuracy: 0.9783 - val_loss: 0.1044 - val_accuracy: 0.9698\n",
            "Epoch 19/100\n",
            "54000/54000 [==============================] - 2s 30us/step - loss: 0.0704 - accuracy: 0.9795 - val_loss: 0.1083 - val_accuracy: 0.9702\n",
            "Epoch 20/100\n",
            "54000/54000 [==============================] - 2s 30us/step - loss: 0.0675 - accuracy: 0.9798 - val_loss: 0.1076 - val_accuracy: 0.9700\n",
            "Epoch 21/100\n",
            "54000/54000 [==============================] - 2s 29us/step - loss: 0.0644 - accuracy: 0.9809 - val_loss: 0.1043 - val_accuracy: 0.9710\n",
            "Epoch 22/100\n",
            "54000/54000 [==============================] - 2s 29us/step - loss: 0.0617 - accuracy: 0.9819 - val_loss: 0.1084 - val_accuracy: 0.9702\n",
            "Epoch 23/100\n",
            "54000/54000 [==============================] - 2s 29us/step - loss: 0.0591 - accuracy: 0.9829 - val_loss: 0.1065 - val_accuracy: 0.9695\n",
            "Epoch 24/100\n",
            "54000/54000 [==============================] - 2s 31us/step - loss: 0.0568 - accuracy: 0.9836 - val_loss: 0.1076 - val_accuracy: 0.9707\n",
            "Epoch 25/100\n",
            "54000/54000 [==============================] - 2s 29us/step - loss: 0.0546 - accuracy: 0.9842 - val_loss: 0.1098 - val_accuracy: 0.9685\n",
            "Epoch 26/100\n",
            "54000/54000 [==============================] - 2s 28us/step - loss: 0.0519 - accuracy: 0.9851 - val_loss: 0.1102 - val_accuracy: 0.9700\n",
            "Epoch 27/100\n",
            "54000/54000 [==============================] - 2s 29us/step - loss: 0.0502 - accuracy: 0.9852 - val_loss: 0.1074 - val_accuracy: 0.9697\n",
            "Epoch 28/100\n",
            "54000/54000 [==============================] - 2s 29us/step - loss: 0.0482 - accuracy: 0.9864 - val_loss: 0.1103 - val_accuracy: 0.9695\n",
            "Epoch 29/100\n",
            "54000/54000 [==============================] - 2s 33us/step - loss: 0.0461 - accuracy: 0.9868 - val_loss: 0.1121 - val_accuracy: 0.9687\n",
            "Epoch 30/100\n",
            "54000/54000 [==============================] - 2s 32us/step - loss: 0.0439 - accuracy: 0.9873 - val_loss: 0.1138 - val_accuracy: 0.9705\n",
            "Epoch 31/100\n",
            "54000/54000 [==============================] - 2s 28us/step - loss: 0.0421 - accuracy: 0.9880 - val_loss: 0.1159 - val_accuracy: 0.9698\n",
            "Epoch 32/100\n",
            "54000/54000 [==============================] - 2s 31us/step - loss: 0.0411 - accuracy: 0.9883 - val_loss: 0.1164 - val_accuracy: 0.9682\n",
            "Epoch 33/100\n",
            "54000/54000 [==============================] - 2s 28us/step - loss: 0.0397 - accuracy: 0.9889 - val_loss: 0.1191 - val_accuracy: 0.9698\n",
            "Epoch 34/100\n",
            "54000/54000 [==============================] - 2s 31us/step - loss: 0.0378 - accuracy: 0.9897 - val_loss: 0.1185 - val_accuracy: 0.9693\n",
            "Epoch 35/100\n",
            "54000/54000 [==============================] - 2s 28us/step - loss: 0.0364 - accuracy: 0.9902 - val_loss: 0.1173 - val_accuracy: 0.9700\n",
            "Epoch 36/100\n",
            "54000/54000 [==============================] - 2s 28us/step - loss: 0.0358 - accuracy: 0.9901 - val_loss: 0.1221 - val_accuracy: 0.9690\n",
            "Epoch 37/100\n",
            "54000/54000 [==============================] - 2s 29us/step - loss: 0.0342 - accuracy: 0.9908 - val_loss: 0.1197 - val_accuracy: 0.9683\n",
            "Epoch 38/100\n",
            "54000/54000 [==============================] - 2s 31us/step - loss: 0.0325 - accuracy: 0.9913 - val_loss: 0.1203 - val_accuracy: 0.9688\n",
            "Epoch 39/100\n",
            "54000/54000 [==============================] - 2s 33us/step - loss: 0.0320 - accuracy: 0.9914 - val_loss: 0.1239 - val_accuracy: 0.9695\n",
            "Epoch 40/100\n",
            "54000/54000 [==============================] - 2s 29us/step - loss: 0.0304 - accuracy: 0.9923 - val_loss: 0.1258 - val_accuracy: 0.9698\n",
            "Epoch 41/100\n",
            "54000/54000 [==============================] - 2s 29us/step - loss: 0.0293 - accuracy: 0.9923 - val_loss: 0.1253 - val_accuracy: 0.9670\n",
            "Epoch 42/100\n",
            "54000/54000 [==============================] - 2s 29us/step - loss: 0.0287 - accuracy: 0.9921 - val_loss: 0.1328 - val_accuracy: 0.9668\n",
            "Epoch 43/100\n",
            "54000/54000 [==============================] - 2s 29us/step - loss: 0.0270 - accuracy: 0.9931 - val_loss: 0.1287 - val_accuracy: 0.9700\n",
            "Epoch 44/100\n",
            "54000/54000 [==============================] - 2s 29us/step - loss: 0.0263 - accuracy: 0.9932 - val_loss: 0.1280 - val_accuracy: 0.9692\n",
            "Epoch 45/100\n",
            "54000/54000 [==============================] - 2s 28us/step - loss: 0.0256 - accuracy: 0.9934 - val_loss: 0.1332 - val_accuracy: 0.9685\n",
            "Epoch 46/100\n",
            "54000/54000 [==============================] - 2s 29us/step - loss: 0.0246 - accuracy: 0.9937 - val_loss: 0.1349 - val_accuracy: 0.9678\n",
            "Epoch 47/100\n",
            "54000/54000 [==============================] - 2s 34us/step - loss: 0.0236 - accuracy: 0.9940 - val_loss: 0.1377 - val_accuracy: 0.9688\n",
            "Epoch 48/100\n",
            "54000/54000 [==============================] - 2s 32us/step - loss: 0.0228 - accuracy: 0.9945 - val_loss: 0.1368 - val_accuracy: 0.9678\n",
            "Epoch 49/100\n",
            "54000/54000 [==============================] - 2s 30us/step - loss: 0.0226 - accuracy: 0.9944 - val_loss: 0.1409 - val_accuracy: 0.9675\n",
            "Epoch 50/100\n",
            "54000/54000 [==============================] - 2s 30us/step - loss: 0.0212 - accuracy: 0.9949 - val_loss: 0.1415 - val_accuracy: 0.9677\n",
            "Epoch 51/100\n",
            "54000/54000 [==============================] - 2s 30us/step - loss: 0.0206 - accuracy: 0.9950 - val_loss: 0.1401 - val_accuracy: 0.9682\n",
            "Epoch 52/100\n",
            "54000/54000 [==============================] - 2s 29us/step - loss: 0.0201 - accuracy: 0.9952 - val_loss: 0.1455 - val_accuracy: 0.9688\n",
            "Epoch 53/100\n",
            "54000/54000 [==============================] - 2s 29us/step - loss: 0.0193 - accuracy: 0.9957 - val_loss: 0.1457 - val_accuracy: 0.9688\n",
            "Epoch 54/100\n",
            "54000/54000 [==============================] - 2s 32us/step - loss: 0.0176 - accuracy: 0.9964 - val_loss: 0.1419 - val_accuracy: 0.9687\n",
            "Epoch 55/100\n",
            "54000/54000 [==============================] - 2s 29us/step - loss: 0.0178 - accuracy: 0.9960 - val_loss: 0.1471 - val_accuracy: 0.9662\n",
            "Epoch 56/100\n",
            "54000/54000 [==============================] - 2s 29us/step - loss: 0.0178 - accuracy: 0.9956 - val_loss: 0.1489 - val_accuracy: 0.9675\n",
            "Epoch 57/100\n",
            "54000/54000 [==============================] - 2s 30us/step - loss: 0.0166 - accuracy: 0.9963 - val_loss: 0.1504 - val_accuracy: 0.9685\n",
            "Epoch 58/100\n",
            "54000/54000 [==============================] - 2s 30us/step - loss: 0.0160 - accuracy: 0.9964 - val_loss: 0.1471 - val_accuracy: 0.9693\n",
            "Epoch 59/100\n",
            "54000/54000 [==============================] - 2s 28us/step - loss: 0.0158 - accuracy: 0.9964 - val_loss: 0.1563 - val_accuracy: 0.9658\n",
            "Epoch 60/100\n",
            "54000/54000 [==============================] - 2s 29us/step - loss: 0.0144 - accuracy: 0.9972 - val_loss: 0.1522 - val_accuracy: 0.9678\n",
            "Epoch 61/100\n",
            "54000/54000 [==============================] - 2s 30us/step - loss: 0.0143 - accuracy: 0.9972 - val_loss: 0.1566 - val_accuracy: 0.9675\n",
            "Epoch 62/100\n",
            "54000/54000 [==============================] - 2s 30us/step - loss: 0.0139 - accuracy: 0.9967 - val_loss: 0.1651 - val_accuracy: 0.9675\n",
            "Epoch 63/100\n",
            "54000/54000 [==============================] - 2s 29us/step - loss: 0.0134 - accuracy: 0.9973 - val_loss: 0.1572 - val_accuracy: 0.9682\n",
            "Epoch 64/100\n",
            "54000/54000 [==============================] - 2s 28us/step - loss: 0.0125 - accuracy: 0.9977 - val_loss: 0.1584 - val_accuracy: 0.9680\n",
            "Epoch 65/100\n",
            "54000/54000 [==============================] - 2s 29us/step - loss: 0.0121 - accuracy: 0.9978 - val_loss: 0.1610 - val_accuracy: 0.9665\n",
            "Epoch 66/100\n",
            "54000/54000 [==============================] - 2s 29us/step - loss: 0.0117 - accuracy: 0.9979 - val_loss: 0.1670 - val_accuracy: 0.9670\n",
            "Epoch 67/100\n",
            "54000/54000 [==============================] - 2s 29us/step - loss: 0.0112 - accuracy: 0.9979 - val_loss: 0.1653 - val_accuracy: 0.9688\n",
            "Epoch 68/100\n",
            "54000/54000 [==============================] - 2s 29us/step - loss: 0.0109 - accuracy: 0.9979 - val_loss: 0.1669 - val_accuracy: 0.9663\n",
            "Epoch 69/100\n",
            "54000/54000 [==============================] - 2s 28us/step - loss: 0.0104 - accuracy: 0.9982 - val_loss: 0.1682 - val_accuracy: 0.9678\n",
            "Epoch 70/100\n",
            "54000/54000 [==============================] - 2s 28us/step - loss: 0.0108 - accuracy: 0.9979 - val_loss: 0.1711 - val_accuracy: 0.9680\n",
            "Epoch 71/100\n",
            "54000/54000 [==============================] - 2s 28us/step - loss: 0.0097 - accuracy: 0.9984 - val_loss: 0.1779 - val_accuracy: 0.9667\n",
            "Epoch 72/100\n",
            "54000/54000 [==============================] - 2s 28us/step - loss: 0.0096 - accuracy: 0.9983 - val_loss: 0.1748 - val_accuracy: 0.9660\n",
            "Epoch 73/100\n",
            "54000/54000 [==============================] - 2s 29us/step - loss: 0.0091 - accuracy: 0.9987 - val_loss: 0.1758 - val_accuracy: 0.9660\n",
            "Epoch 74/100\n",
            "54000/54000 [==============================] - 2s 31us/step - loss: 0.0090 - accuracy: 0.9985 - val_loss: 0.1767 - val_accuracy: 0.9672\n",
            "Epoch 75/100\n",
            "54000/54000 [==============================] - 2s 29us/step - loss: 0.0088 - accuracy: 0.9986 - val_loss: 0.1777 - val_accuracy: 0.9660\n",
            "Epoch 76/100\n",
            "54000/54000 [==============================] - 2s 33us/step - loss: 0.0086 - accuracy: 0.9983 - val_loss: 0.1839 - val_accuracy: 0.9643\n",
            "Epoch 77/100\n",
            "54000/54000 [==============================] - 2s 28us/step - loss: 0.0078 - accuracy: 0.9987 - val_loss: 0.1829 - val_accuracy: 0.9662\n",
            "Epoch 78/100\n",
            "54000/54000 [==============================] - 2s 28us/step - loss: 0.0070 - accuracy: 0.9991 - val_loss: 0.1965 - val_accuracy: 0.9650\n",
            "Epoch 79/100\n",
            "54000/54000 [==============================] - 2s 31us/step - loss: 0.0075 - accuracy: 0.9988 - val_loss: 0.1905 - val_accuracy: 0.9655\n",
            "Epoch 80/100\n",
            "54000/54000 [==============================] - 2s 29us/step - loss: 0.0072 - accuracy: 0.9991 - val_loss: 0.1864 - val_accuracy: 0.9668\n",
            "Epoch 81/100\n",
            "54000/54000 [==============================] - 2s 28us/step - loss: 0.0068 - accuracy: 0.9990 - val_loss: 0.1862 - val_accuracy: 0.9677\n",
            "Epoch 82/100\n",
            "54000/54000 [==============================] - 2s 29us/step - loss: 0.0067 - accuracy: 0.9990 - val_loss: 0.1928 - val_accuracy: 0.9635\n",
            "Epoch 83/100\n",
            "54000/54000 [==============================] - 2s 28us/step - loss: 0.0065 - accuracy: 0.9992 - val_loss: 0.1935 - val_accuracy: 0.9663\n",
            "Epoch 84/100\n",
            "54000/54000 [==============================] - 2s 28us/step - loss: 0.0066 - accuracy: 0.9989 - val_loss: 0.1960 - val_accuracy: 0.9660\n",
            "Epoch 85/100\n",
            "54000/54000 [==============================] - 2s 28us/step - loss: 0.0057 - accuracy: 0.9993 - val_loss: 0.1957 - val_accuracy: 0.9645\n",
            "Epoch 86/100\n",
            "54000/54000 [==============================] - 2s 30us/step - loss: 0.0051 - accuracy: 0.9996 - val_loss: 0.1927 - val_accuracy: 0.9660\n",
            "Epoch 87/100\n",
            "54000/54000 [==============================] - 2s 31us/step - loss: 0.0054 - accuracy: 0.9993 - val_loss: 0.2027 - val_accuracy: 0.9638\n",
            "Epoch 88/100\n",
            "54000/54000 [==============================] - 2s 29us/step - loss: 0.0068 - accuracy: 0.9986 - val_loss: 0.2030 - val_accuracy: 0.9655\n",
            "Epoch 89/100\n",
            "54000/54000 [==============================] - 2s 29us/step - loss: 0.0058 - accuracy: 0.9992 - val_loss: 0.2012 - val_accuracy: 0.9657\n",
            "Epoch 90/100\n",
            "54000/54000 [==============================] - 2s 28us/step - loss: 0.0047 - accuracy: 0.9995 - val_loss: 0.2088 - val_accuracy: 0.9647\n",
            "Epoch 91/100\n",
            "54000/54000 [==============================] - 2s 29us/step - loss: 0.0040 - accuracy: 0.9997 - val_loss: 0.2058 - val_accuracy: 0.9650\n",
            "Epoch 92/100\n",
            "54000/54000 [==============================] - 2s 28us/step - loss: 0.0037 - accuracy: 0.9998 - val_loss: 0.2073 - val_accuracy: 0.9655\n",
            "Epoch 93/100\n",
            "54000/54000 [==============================] - 2s 30us/step - loss: 0.0041 - accuracy: 0.9997 - val_loss: 0.2099 - val_accuracy: 0.9647\n",
            "Epoch 94/100\n",
            "54000/54000 [==============================] - 2s 30us/step - loss: 0.0051 - accuracy: 0.9991 - val_loss: 0.2142 - val_accuracy: 0.9660\n",
            "Epoch 95/100\n",
            "54000/54000 [==============================] - 2s 30us/step - loss: 0.0057 - accuracy: 0.9989 - val_loss: 0.2217 - val_accuracy: 0.9640\n",
            "Epoch 96/100\n",
            "54000/54000 [==============================] - 2s 29us/step - loss: 0.0043 - accuracy: 0.9994 - val_loss: 0.2214 - val_accuracy: 0.9660\n",
            "Epoch 97/100\n",
            "54000/54000 [==============================] - 2s 31us/step - loss: 0.0037 - accuracy: 0.9997 - val_loss: 0.2140 - val_accuracy: 0.9655\n",
            "Epoch 98/100\n",
            "54000/54000 [==============================] - 2s 32us/step - loss: 0.0030 - accuracy: 0.9999 - val_loss: 0.2168 - val_accuracy: 0.9658\n",
            "Epoch 99/100\n",
            "54000/54000 [==============================] - 2s 29us/step - loss: 0.0036 - accuracy: 0.9996 - val_loss: 0.2215 - val_accuracy: 0.9648\n",
            "Epoch 100/100\n",
            "54000/54000 [==============================] - 2s 29us/step - loss: 0.0029 - accuracy: 0.9999 - val_loss: 0.2265 - val_accuracy: 0.9653\n"
          ],
          "name": "stdout"
        }
      ]
    },
    {
      "cell_type": "markdown",
      "metadata": {
        "id": "O29MtoscwPLW",
        "colab_type": "text"
      },
      "source": [
        "El callback devuelto es un diccionario, lo convertimos a un dataframe de Pandas y visualizamos, para ver las pérdidas y precisión de entrenamiento y validación."
      ]
    },
    {
      "cell_type": "code",
      "metadata": {
        "id": "vxfGrIKy97pY",
        "colab_type": "code",
        "colab": {}
      },
      "source": [
        "def plot_history(logger):\n",
        "    df = pd.DataFrame(logger.history)\n",
        "    df[['accuracy', 'val_accuracy']].plot()\n",
        "    plt.ylabel(\"precisión\")\n",
        "    df[['loss', 'val_loss']].plot(linestyle='--', ax=plt.twinx())\n",
        "    plt.ylabel(\"pérdida\")"
      ],
      "execution_count": null,
      "outputs": []
    },
    {
      "cell_type": "code",
      "metadata": {
        "id": "TR1cYE-L97pa",
        "colab_type": "code",
        "colab": {
          "base_uri": "https://localhost:8080/",
          "height": 485
        },
        "outputId": "80ed087e-0145-4b6e-9e69-51649558a31b"
      },
      "source": [
        "df = pd.DataFrame(history_callback.history)\n",
        "df[['accuracy', 'val_accuracy']].plot()\n",
        "plt.ylabel(\"precisión\")\n",
        "df[['loss', 'val_loss']].plot(linestyle='--', ax=plt.twinx())\n",
        "plt.ylabel(\"pérdida\")"
      ],
      "execution_count": null,
      "outputs": [
        {
          "output_type": "execute_result",
          "data": {
            "text/plain": [
              "Text(0, 0.5, 'pérdida')"
            ]
          },
          "metadata": {
            "tags": []
          },
          "execution_count": 20
        },
        {
          "output_type": "display_data",
          "data": {
            "image/png": "[encoded data removed]",
            "text/plain": [
              "<Figure size 1152x648 with 2 Axes>"
            ]
          },
          "metadata": {
            "tags": [],
            "needs_background": "light"
          }
        }
      ]
    },
    {
      "cell_type": "markdown",
      "metadata": {
        "id": "u5KoS_yKwbn0",
        "colab_type": "text"
      },
      "source": [
        "Con un mayor número de épocas, vemos que el error de validación se incrementa, así que probablemente la red ha comenzado a sobreajustar los datos de entrenamiento."
      ]
    }
  ]
}